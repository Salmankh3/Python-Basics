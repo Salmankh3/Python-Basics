{
 "cells": [
  {
   "cell_type": "code",
   "execution_count": 1,
   "metadata": {},
   "outputs": [
    {
     "name": "stdout",
     "output_type": "stream",
     "text": [
      "Enter a number4\n",
      "Number is even\n"
     ]
    }
   ],
   "source": [
    "#Checking whether the number is even or odd\n",
    "n=int(input(\"Enter a number\"))\n",
    "if n%2==0:\n",
    "    print(\"Number is even\")\n",
    "else:\n",
    "    print(\"Number is odd\")"
   ]
  },
  {
   "cell_type": "code",
   "execution_count": 3,
   "metadata": {},
   "outputs": [
    {
     "name": "stdout",
     "output_type": "stream",
     "text": [
      "Select Operation:\n",
      "1.To convert cm to m\n",
      "2.To convert inch to meter2\n",
      "Enter Value in inch:2.5\n",
      "Value in meter= 0.0635 m\n"
     ]
    }
   ],
   "source": [
    "#Conversion of cm or inch to meter\n",
    "import sys\n",
    "operation=int(input(\"Select Operation:\\n1.To convert cm to m\\n2.To convert inch to meter\"))\n",
    "if operation==1:\n",
    "    cm=float(input(\"Enter Value in cm:\"))\n",
    "    meter = cm * 0.01\n",
    "    print(\"Value in meter=\",meter,\"m\")\n",
    "elif operation==2:\n",
    "    inch=float(input(\"Enter Value in inch:\"))\n",
    "    meter = inch * 0.0254\n",
    "    print(\"Value in meter=\",meter,\"m\")\n",
    "else:\n",
    "    sys.exit(0)"
   ]
  },
  {
   "cell_type": "code",
   "execution_count": 5,
   "metadata": {},
   "outputs": [
    {
     "name": "stdout",
     "output_type": "stream",
     "text": [
      "Enter mass in kg: 25\n",
      "Enter acceleration in meter per second square: 55\n",
      "Force=  1375.0 N\n"
     ]
    }
   ],
   "source": [
    "#Second law of newton\n",
    "mass=float(input(\"Enter mass in kg: \"))\n",
    "acce=float(input(\"Enter acceleration in meter per second square: \"))\n",
    "force=mass*acce\n",
    "print(\"Force= \",force,\"N\")"
   ]
  },
  {
   "cell_type": "code",
   "execution_count": 6,
   "metadata": {},
   "outputs": [
    {
     "name": "stdout",
     "output_type": "stream",
     "text": [
      "Enter alphabet: a\n",
      "It's a vowel\n"
     ]
    }
   ],
   "source": [
    "#Checking whether the alphabet is consonant or vowel\n",
    "alphabet=input(\"Enter alphabet: \")\n",
    "if alphabet=='a' or alphabet=='e' or alphabet=='i' or alphabet=='o' or alphabet=='u':\n",
    "    print(\"It's a vowel\")\n",
    "else:\n",
    "    print(\"It's a consonant\")"
   ]
  },
  {
   "cell_type": "code",
   "execution_count": 5,
   "metadata": {},
   "outputs": [
    {
     "name": "stdout",
     "output_type": "stream",
     "text": [
      "Enter number: 5\n",
      "5  is a prime number\n"
     ]
    }
   ],
   "source": [
    "#Finding Prime Number\n",
    "n=int(input(\"Enter number: \"))\n",
    "if n>1:\n",
    "    for i in range(2,n):\n",
    "        if (n%i)==0:\n",
    "                print(n,\" is not a prime number\")\n",
    "                break\n",
    "    else:\n",
    "        print(n,\" is a prime number\")\n",
    "else:\n",
    "    print(n,\" is not a prime number\")               "
   ]
  },
  {
   "cell_type": "code",
   "execution_count": 13,
   "metadata": {},
   "outputs": [
    {
     "name": "stdout",
     "output_type": "stream",
     "text": [
      "Enter voltage:2.5\n",
      "Enter current:3.5\n",
      "Power=  8.75 watt\n"
     ]
    }
   ],
   "source": [
    "#Calculating power\n",
    "volt=float(input(\"Enter voltage:\"))\n",
    "current=float(input(\"Enter current:\"))\n",
    "power = volt*current\n",
    "print(\"Power= \",power,\"watt\")"
   ]
  },
  {
   "cell_type": "code",
   "execution_count": 14,
   "metadata": {},
   "outputs": [
    {
     "name": "stdout",
     "output_type": "stream",
     "text": [
      "Enter initial velocity:3.5\n",
      "Enter final velocity:105\n",
      "Enter mass in kg:32\n",
      "Change in momentum:  3248.0\n"
     ]
    }
   ],
   "source": [
    "#claculating momentum\n",
    "vi=float(input(\"Enter initial velocity:\"))\n",
    "vf=float(input(\"Enter final velocity:\"))\n",
    "m=float(input(\"Enter mass in kg:\"))\n",
    "v=vf-vi\n",
    "p=m*v\n",
    "print(\"Change in momentum: \",p)"
   ]
  },
  {
   "cell_type": "code",
   "execution_count": 19,
   "metadata": {},
   "outputs": [
    {
     "name": "stdout",
     "output_type": "stream",
     "text": [
      "Enter initial velocity:3.5\n",
      "Enter acceleration:2\n",
      "Enter time:1\n",
      "Final Velocity=  5.5 m/s\n"
     ]
    }
   ],
   "source": [
    "#Calculating final velocity\n",
    "vi=float(input(\"Enter initial velocity:\"))\n",
    "a=float(input(\"Enter acceleration:\"))\n",
    "t=float(input(\"Enter time:\"))\n",
    "vf=vi+a*t\n",
    "print(\"Final Velocity= \",vf,\"m/s\")"
   ]
  },
  {
   "cell_type": "code",
   "execution_count": 24,
   "metadata": {},
   "outputs": [
    {
     "name": "stdout",
     "output_type": "stream",
     "text": [
      "Enter initial velocity:3.5\n",
      "Enter acceleration:2\n",
      "Enter time:3\n",
      "Distance is:  19.5 m\n"
     ]
    }
   ],
   "source": [
    "#Calculating distance\n",
    "vi=float(input(\"Enter initial velocity:\"))\n",
    "a=float(input(\"Enter acceleration:\"))\n",
    "t=float(input(\"Enter time:\"))\n",
    "s=float(vi*t)+(1/2*(a*t*t))\n",
    "print(\"Distance is: \",s,\"m\")"
   ]
  },
  {
   "cell_type": "code",
   "execution_count": 25,
   "metadata": {},
   "outputs": [
    {
     "name": "stdout",
     "output_type": "stream",
     "text": [
      "Enter voltage: 35\n",
      "Enter current: 2.5\n",
      "Resistance=  14.0 ohm\n",
      "Conductance=  0.07142857142857142\n"
     ]
    }
   ],
   "source": [
    "#Calculating resistance and conductance\n",
    "voltage=float(input(\"Enter voltage: \"))\n",
    "current=float(input(\"Enter current: \"))\n",
    "resistance=voltage/current\n",
    "conductance=1/resistance\n",
    "print(\"Resistance= \",resistance,\"ohm\\nConductance= \",conductance)"
   ]
  },
  {
   "cell_type": "code",
   "execution_count": 29,
   "metadata": {},
   "outputs": [
    {
     "name": "stdout",
     "output_type": "stream",
     "text": [
      "Enter a number2\n",
      "2 * 1 = 2\n",
      "2 * 2 = 4\n",
      "2 * 3 = 6\n",
      "2 * 4 = 8\n",
      "2 * 5 = 10\n",
      "2 * 6 = 12\n",
      "2 * 7 = 14\n",
      "2 * 8 = 16\n",
      "2 * 9 = 18\n",
      "2 * 10 = 20\n"
     ]
    }
   ],
   "source": [
    "#Printing table\n",
    "n=int(input(\"Enter a number\"))\n",
    "for i in range(1,11):\n",
    "    print(n,\"*\",i,\"=\",n*i)\n",
    "    "
   ]
  },
  {
   "cell_type": "code",
   "execution_count": 31,
   "metadata": {},
   "outputs": [
    {
     "name": "stdout",
     "output_type": "stream",
     "text": [
      "Enter length of the square: 5\n",
      "Area=  25.0\n"
     ]
    }
   ],
   "source": [
    "#Area of a square\n",
    "length=float(input(\"Enter length of the square: \"))\n",
    "area=length*length\n",
    "print(\"Area= \",area)"
   ]
  },
  {
   "cell_type": "code",
   "execution_count": 37,
   "metadata": {},
   "outputs": [
    {
     "name": "stdout",
     "output_type": "stream",
     "text": [
      "Enter area of a circle: 2\n",
      "Radius=  0.6365372374283896\n"
     ]
    }
   ],
   "source": [
    "#Radius of a circle\n",
    "import math\n",
    "area=float(input(\"Enter area of a circle: \"))\n",
    "r=area/3.142\n",
    "math.sqrt(r)\n",
    "print(\"Radius= \",r)"
   ]
  },
  {
   "cell_type": "code",
   "execution_count": 47,
   "metadata": {},
   "outputs": [
    {
     "name": "stdout",
     "output_type": "stream",
     "text": [
      "Enter rows: 5\n",
      "*\n",
      "**\n",
      "***\n",
      "****\n",
      "*****\n",
      "\n",
      "\n"
     ]
    }
   ],
   "source": [
    "#Floyd's Triangle\n",
    "rows=int(input(\"Enter rows: \"))\n",
    "for i in range(1,6):\n",
    "    for j in range(1,i+1):\n",
    "        print(\"*\",end=\"\")\n",
    "    print()\n",
    "print(\"\\n\")    "
   ]
  },
  {
   "cell_type": "code",
   "execution_count": 48,
   "metadata": {},
   "outputs": [
    {
     "data": {
      "text/plain": [
       "0.9011231914009716"
      ]
     },
     "execution_count": 48,
     "metadata": {},
     "output_type": "execute_result"
    }
   ],
   "source": [
    "#random number\n",
    "import numpy as np\n",
    "np.random.random()"
   ]
  },
  {
   "cell_type": "code",
   "execution_count": 51,
   "metadata": {},
   "outputs": [
    {
     "name": "stdout",
     "output_type": "stream",
     "text": [
      "Enter number: 5\n",
      "6\n",
      "4\n"
     ]
    }
   ],
   "source": [
    "#increment an ddecrement\n",
    "n=int(input(\"Enter number: \"))\n",
    "print(n+1)\n",
    "print(n-1)"
   ]
  },
  {
   "cell_type": "code",
   "execution_count": 9,
   "metadata": {},
   "outputs": [
    {
     "name": "stdout",
     "output_type": "stream",
     "text": [
      "1 = \u0001\n",
      "2 = \u0002\n",
      "3 = \u0003\n",
      "4 = \u0004\n",
      "5 = \u0005\n",
      "6 = \u0006\n",
      "7 = \u0007\n",
      "8 = \b\n",
      "9 = \t\n",
      "10 = \n",
      "\n",
      "11 = \u000b",
      "\n",
      "12 = \f",
      "\n",
      "13 = \r\n",
      "14 = \u000e\n",
      "15 = \u000f\n",
      "16 = \u0010\n",
      "17 = \u0011\n",
      "18 = \u0012\n",
      "19 = \u0013\n",
      "20 = \u0014\n",
      "21 = \u0015\n",
      "22 = \u0016\n",
      "23 = \u0017\n",
      "24 = \u0018\n",
      "25 = \u0019\n",
      "26 = \u001a\n",
      "27 = \u001b\n",
      "28 = \u001c",
      "\n",
      "29 = \u001d",
      "\n",
      "30 = \u001e",
      "\n",
      "31 = \u001f\n",
      "32 =  \n",
      "33 = !\n",
      "34 = \"\n",
      "35 = #\n",
      "36 = $\n",
      "37 = %\n",
      "38 = &\n",
      "39 = '\n",
      "40 = (\n",
      "41 = )\n",
      "42 = *\n",
      "43 = +\n",
      "44 = ,\n",
      "45 = -\n",
      "46 = .\n",
      "47 = /\n",
      "48 = 0\n",
      "49 = 1\n",
      "50 = 2\n",
      "51 = 3\n",
      "52 = 4\n",
      "53 = 5\n",
      "54 = 6\n",
      "55 = 7\n",
      "56 = 8\n",
      "57 = 9\n",
      "58 = :\n",
      "59 = ;\n",
      "60 = <\n",
      "61 = =\n",
      "62 = >\n",
      "63 = ?\n",
      "64 = @\n",
      "65 = A\n",
      "66 = B\n",
      "67 = C\n",
      "68 = D\n",
      "69 = E\n",
      "70 = F\n",
      "71 = G\n",
      "72 = H\n",
      "73 = I\n",
      "74 = J\n",
      "75 = K\n",
      "76 = L\n",
      "77 = M\n",
      "78 = N\n",
      "79 = O\n",
      "80 = P\n",
      "81 = Q\n",
      "82 = R\n",
      "83 = S\n",
      "84 = T\n",
      "85 = U\n",
      "86 = V\n",
      "87 = W\n",
      "88 = X\n",
      "89 = Y\n",
      "90 = Z\n",
      "91 = [\n",
      "92 = \\\n",
      "93 = ]\n",
      "94 = ^\n",
      "95 = _\n",
      "96 = `\n",
      "97 = a\n",
      "98 = b\n",
      "99 = c\n",
      "100 = d\n",
      "101 = e\n",
      "102 = f\n",
      "103 = g\n",
      "104 = h\n",
      "105 = i\n",
      "106 = j\n",
      "107 = k\n",
      "108 = l\n",
      "109 = m\n",
      "110 = n\n",
      "111 = o\n",
      "112 = p\n",
      "113 = q\n",
      "114 = r\n",
      "115 = s\n",
      "116 = t\n",
      "117 = u\n",
      "118 = v\n",
      "119 = w\n",
      "120 = x\n",
      "121 = y\n",
      "122 = z\n",
      "123 = {\n",
      "124 = |\n",
      "125 = }\n",
      "126 = ~\n",
      "127 = \n",
      "128 = \n",
      "129 = \n",
      "130 = \n",
      "131 = \n",
      "132 = \n",
      "133 = ",
      "\n",
      "134 = \n",
      "135 = \n",
      "136 = \n",
      "137 = \n",
      "138 = \n",
      "139 = \n",
      "140 = \n",
      "141 = \n",
      "142 = \n",
      "143 = \n",
      "144 = \n",
      "145 = \n",
      "146 = \n",
      "147 = \n",
      "148 = \n",
      "149 = \n",
      "150 = \n",
      "151 = \n",
      "152 = \n",
      "153 = \n",
      "154 = \n",
      "155 = \n",
      "156 = \n",
      "157 = \n",
      "158 = \n",
      "159 = \n",
      "160 =  \n",
      "161 = ¡\n",
      "162 = ¢\n",
      "163 = £\n",
      "164 = ¤\n",
      "165 = ¥\n",
      "166 = ¦\n",
      "167 = §\n",
      "168 = ¨\n",
      "169 = ©\n",
      "170 = ª\n",
      "171 = «\n",
      "172 = ¬\n",
      "173 = ­\n",
      "174 = ®\n",
      "175 = ¯\n",
      "176 = °\n",
      "177 = ±\n",
      "178 = ²\n",
      "179 = ³\n",
      "180 = ´\n",
      "181 = µ\n",
      "182 = ¶\n",
      "183 = ·\n",
      "184 = ¸\n",
      "185 = ¹\n",
      "186 = º\n",
      "187 = »\n",
      "188 = ¼\n",
      "189 = ½\n",
      "190 = ¾\n",
      "191 = ¿\n",
      "192 = À\n",
      "193 = Á\n",
      "194 = Â\n",
      "195 = Ã\n",
      "196 = Ä\n",
      "197 = Å\n",
      "198 = Æ\n",
      "199 = Ç\n",
      "200 = È\n",
      "201 = É\n",
      "202 = Ê\n",
      "203 = Ë\n",
      "204 = Ì\n",
      "205 = Í\n",
      "206 = Î\n",
      "207 = Ï\n",
      "208 = Ð\n",
      "209 = Ñ\n",
      "210 = Ò\n",
      "211 = Ó\n",
      "212 = Ô\n",
      "213 = Õ\n",
      "214 = Ö\n",
      "215 = ×\n",
      "216 = Ø\n",
      "217 = Ù\n",
      "218 = Ú\n",
      "219 = Û\n",
      "220 = Ü\n",
      "221 = Ý\n",
      "222 = Þ\n",
      "223 = ß\n",
      "224 = à\n",
      "225 = á\n",
      "226 = â\n",
      "227 = ã\n",
      "228 = ä\n",
      "229 = å\n",
      "230 = æ\n",
      "231 = ç\n",
      "232 = è\n",
      "233 = é\n",
      "234 = ê\n",
      "235 = ë\n",
      "236 = ì\n",
      "237 = í\n",
      "238 = î\n",
      "239 = ï\n",
      "240 = ð\n",
      "241 = ñ\n",
      "242 = ò\n",
      "243 = ó\n",
      "244 = ô\n",
      "245 = õ\n",
      "246 = ö\n",
      "247 = ÷\n",
      "248 = ø\n",
      "249 = ù\n",
      "250 = ú\n",
      "251 = û\n",
      "252 = ü\n",
      "253 = ý\n",
      "254 = þ\n",
      "255 = ÿ\n"
     ]
    }
   ],
   "source": [
    "# Python Program - Print ASCII Values\n",
    "for i in range(1, 256):\n",
    "    ch = chr(i);\n",
    "    print(i, \"=\", ch);"
   ]
  },
  {
   "cell_type": "code",
   "execution_count": 80,
   "metadata": {},
   "outputs": [
    {
     "name": "stdout",
     "output_type": "stream",
     "text": [
      "Mean=  4.375\n",
      "Mode=  5\n",
      "Median=  4\n"
     ]
    }
   ],
   "source": [
    "#Mean, mode and median\n",
    "import math\n",
    "import statistics\n",
    "list1=[1,2,3,4,5,5,7,8]\n",
    "n= 0\n",
    "for i in range(len(list1)):\n",
    "    n+=list1[i]\n",
    "mean=(n/len(list1))\n",
    "print(\"Mean= \",mean)\n",
    "print(\"Mode= \",statistics.mode(list1))\n",
    "if len(list1)%2==0:\n",
    "    median=int((len(list1)+1)/2)\n",
    "    print(\"Median= \",median)\n",
    "else:\n",
    "    median=int((len(list1)/2)+1)\n",
    "    print(\"Median= \",median)    \n"
   ]
  },
  {
   "cell_type": "code",
   "execution_count": 1,
   "metadata": {},
   "outputs": [
    {
     "name": "stdout",
     "output_type": "stream",
     "text": [
      "Name:  Nabeel \n",
      "Father's Name:  Muhammad Iqbal \n",
      "Age:  20 \n",
      "Gender:  Male \n",
      "Qualification:  Bachelor(Continue) \n",
      "Experience:  One year in programming \n",
      "University Name:  BBSUL \n",
      "Hobbies:  Cricket, Football\n"
     ]
    }
   ],
   "source": [
    "#Biodata Using List\n",
    "biodata=[\"Nabeel\",\"Muhammad Iqbal\",20,\"Male\",\"Bachelor(Continue)\",\"One year in programming\",\"BBSUL\",\"Cricket, Football\"]\n",
    "print(\"Name: \",biodata[0],\"\\nFather's Name: \",biodata[1],\"\\nAge: \",biodata[2],\"\\nGender: \",biodata[3],\"\\nQualification: \",\n",
    "      biodata[4],\"\\nExperience: \",biodata[5],\"\\nUniversity Name: \",biodata[6],\"\\nHobbies: \",biodata[7])"
   ]
  },
  {
   "cell_type": "code",
   "execution_count": 66,
   "metadata": {},
   "outputs": [
    {
     "name": "stdout",
     "output_type": "stream",
     "text": [
      "1,\"Eldon Base for stackable storage shelf, platinum\",Muhammed MacIntyre,3,-213.25,38.94,35,Nunavut,Storage & Organization,0.8\n",
      "2,\"1.7 Cubic Foot Compact \"\"Cube\"\" Office Refrigerators\",Barry French,293,457.81,208.16,68.02,Nunavut,Appliances,0.58\n",
      "3,\"Cardinal Slant-D® Ring Binder, Heavy Gauge Vinyl\",Barry French,293,46.71,8.69,2.99,Nunavut,Binders and Binder Accessories,0.39\n",
      "4,R380,Clay Rozendal,483,1198.97,195.99,3.99,Nunavut,Telephones and Communication,0.58\n",
      "5,Holmes HEPA Air Purifier,Carlos Soltero,515,30.94,21.78,5.94,Nunavut,Appliances,0.5\n",
      "6,G.E. Longer-Life Indoor Recessed Floodlight Bulbs,Carlos Soltero,515,4.43,6.64,4.95,Nunavut,Office Furnishings,0.37\n",
      "7,\"Angle-D Binders with Locking Rings, Label Holders\",Carl Jackson,613,-54.04,7.3,7.72,Nunavut,Binders and Binder Accessories,0.38\n",
      "8,\"SAFCO Mobile Desk Side File, Wire Frame\",Carl Jackson,613,127.70,42.76,6.22,Nunavut,Storage & Organization,\n",
      "9,\"SAFCO Commercial Wire Shelving, Black\",Monica Federle,643,-695.26,138.14,35,Nunavut,Storage & Organization,\n",
      "10,Xerox 198,Dorothy Badders,678,-226.36,4.98,8.33,Nunavut,Paper,0.38\n",
      "\n"
     ]
    }
   ],
   "source": [
    "#Read File\n",
    "file=open(\"C:/Users/Dua/Desktop/CSV_File.csv\",\"r\")\n",
    "print(file.read())"
   ]
  },
  {
   "cell_type": "code",
   "execution_count": 76,
   "metadata": {},
   "outputs": [
    {
     "name": "stdout",
     "output_type": "stream",
     "text": [
      "Enter Student name: NAbeel\n",
      "Enter Fahter's name: Muhammad Iqbal\n",
      "Enter University/College name: BBSUL\n",
      "Enter roll no: 604\n",
      "Enter Semester: 3\n",
      "Enter Data Structure Marks: 89\n",
      "Enter OOAD Marks: 90\n",
      "Enter Techno Marks: 85\n",
      "Enter Maths Marks: 84\n",
      "Enter English Marks: 80\n",
      "Enter Basic Electronics Marks: 85\n",
      "Enter Total Marks: 600\n",
      "\n",
      "\n",
      "Student Name:  NAbeel \n",
      "Father Name:  Muhammad Iqbal \n",
      "College Name:  BBSUL \n",
      "Roll No:  604 \n",
      "Semester:  3 \n",
      "Data Structure Marks 89.0 \n",
      "OOAD Marks 90.0 \n",
      "Techno Marks 85.0 \n",
      "Maths Marks 84.0 \n",
      "English Marks:  80.0 \n",
      "BAsic Electronics Marks:  85.0 \n",
      "Total Marks:  600.0 \n",
      "Percentage:  85.5 \n",
      "\n",
      "Grade: A+\n"
     ]
    }
   ],
   "source": [
    "#Creating Marksheet\n",
    "name=input(\"Enter Student name: \")\n",
    "fname=input(\"Enter Fahter's name: \")\n",
    "cname=input(\"Enter University/College name: \")\n",
    "roll_no=int(input(\"Enter roll no: \"))\n",
    "semester=int(input(\"Enter Semester: \"))\n",
    "s1=float(input(\"Enter Data Structure Marks: \"))\n",
    "s2=float(input(\"Enter OOAD Marks: \"))\n",
    "s3=float(input(\"Enter Techno Marks: \"))\n",
    "s4=float(input(\"Enter Maths Marks: \"))\n",
    "s5=float(input(\"Enter English Marks: \"))\n",
    "s6=float(input(\"Enter Basic Electronics Marks: \"))\n",
    "total=float(input(\"Enter Total Marks: \"))\n",
    "percentage=((s1+s2+s3+s4+s5+s6)/total)*100\n",
    "print(\"\\n\")\n",
    "print(\"Student Name: \",name,\"\\nFather Name: \",fname,\"\\nCollege Name: \",cname,\"\\nRoll No: \",roll_no,\"\\nSemester: \",semester,\n",
    "      \"\\nData Structure Marks\",s1,\"\\nOOAD Marks\",s2,\"\\nTechno Marks\",s3,\"\\nMaths Marks\",s4,\"\\nEnglish Marks: \",s5,\n",
    "      \"\\nBAsic Electronics Marks: \",s6,\"\\nTotal Marks: \",total,\"\\nPercentage: \",percentage,\"\\n\")\n",
    "if percentage>=80:\n",
    "    print(\"Grade: A+\")\n",
    "elif percentage>=70:\n",
    "    print(\"Grade: A\")\n",
    "elif percentage>=60:\n",
    "    print(\"Grade: B\")\n",
    "elif percentage>=50:\n",
    "    print(\"Grade: C\")\n",
    "elif percentage>=40:\n",
    "    print(\"Grade: D\")\n",
    "else:\n",
    "    print(\"Grade: Fail\")    "
   ]
  },
  {
   "cell_type": "code",
   "execution_count": 77,
   "metadata": {},
   "outputs": [
    {
     "name": "stdout",
     "output_type": "stream",
     "text": [
      "Select Operation:\n",
      "1. Convert Centigrade in to Farehenit\n",
      "2. Convet Centigrade into Kelvin\n",
      "3. Convert Farehenit in to Centigrade\n",
      "4. Convert Farehenite into Kelvin\n",
      "1\n",
      "Enter temperature in centigrade:20\n",
      "In Farehenite=  68.0\n"
     ]
    }
   ],
   "source": [
    "#Temperature Conversion\n",
    "print(\"Select Operation:\\n1. Convert Centigrade in to Farehenit\\n2. Convet Centigrade into Kelvin\\n3. Convert Farehenit in to Centigrade\\n4. Convert Farehenite into Kelvin\")\n",
    "select=int(input())\n",
    "if select==1:\n",
    "    c=float(input(\"Enter temperature in centigrade:\"))\n",
    "    f=(9*c/5)+32\n",
    "    print(\"In Farehenite= \",f)\n",
    "elif select==2:\n",
    "    c=float(input(\"Enter temperature in centigrade:\"))\n",
    "    k=273+c\n",
    "    print(\"In Kelvin= \",k)\n",
    "elif select==3:\n",
    "    f=float(input(\"Enter temperature in farehenite:\"))\n",
    "    c=5*(f-32)/9\n",
    "    print(\"In Centigrade= \",c)\n",
    "elif select==4:\n",
    "    c=float(input(\"Enter temperature in Farehenite:\"))\n",
    "    c=5*(f-32)/9\n",
    "    k=c+273\n",
    "    print(\"In kelvin= \",k)    "
   ]
  },
  {
   "cell_type": "code",
   "execution_count": 6,
   "metadata": {},
   "outputs": [
    {
     "name": "stdout",
     "output_type": "stream",
     "text": [
      "2 5 8 \n",
      "3 6 9 \n",
      "4 7 10 \n",
      "\n",
      "\n",
      "1 2 3 \n",
      "4 5 6 \n",
      "7 8 9 \n",
      "\n",
      "\n",
      "3 7 11 \n",
      "7 11 15 \n",
      "11 15 19 \n",
      "\n",
      "\n"
     ]
    }
   ],
   "source": [
    "#Adding two matices\n",
    "a=[[2,5,8],[3,6,9],[4,7,10]]\n",
    "b=[[1,2,3],[4,5,6],[7,8,9]]\n",
    "sum=[[0,0,0],[0,0,0],[0,0,0]]\n",
    "for i in range(0,3):\n",
    "    for j in range(0,3):\n",
    "        print(a[i][j],end=\" \")\n",
    "    print()\n",
    "print(\"\\n\")    \n",
    "for i in range(0,3):\n",
    "    for j in range(0,3):\n",
    "        print(b[i][j],end=\" \")\n",
    "    print()\n",
    "print(\"\\n\")    \n",
    "for i in range(0,3):\n",
    "    for j in range(0,3):\n",
    "        sum[i][j]=a[i][j]+b[i][j]\n",
    "        print(sum[i][j],end=\" \")\n",
    "    print()\n",
    "print(\"\\n\")    "
   ]
  },
  {
   "cell_type": "code",
   "execution_count": 6,
   "metadata": {},
   "outputs": [
    {
     "name": "stdout",
     "output_type": "stream",
     "text": [
      "78 93 108 \n",
      "90 108 126 \n",
      "102 123 144 \n",
      "\n",
      "\n"
     ]
    }
   ],
   "source": [
    "#Multiplication of two matrices\n",
    "a=[[2,5,8],[3,6,9],[4,7,10]]\n",
    "b=[[1,2,3],[4,5,6],[7,8,9]]\n",
    "mul=[[0,0,0],[0,0,0],[0,0,0]]\n",
    "for i in range(0,3):\n",
    "    for j in range(0,3):\n",
    "        for k in range(0,3):\n",
    "            mul[i][j]+=a[i][k]*b[k][j]  \n",
    "for i in range(0,3):\n",
    "    for j in range(0,3):\n",
    "        print(mul[i][j],end=\" \")\n",
    "    print()\n",
    "print(\"\\n\")                                             "
   ]
  },
  {
   "cell_type": "code",
   "execution_count": 7,
   "metadata": {},
   "outputs": [
    {
     "name": "stdout",
     "output_type": "stream",
     "text": [
      "2 3 4 \n",
      "5 6 7 \n",
      "8 9 10 \n",
      "\n",
      "\n"
     ]
    }
   ],
   "source": [
    "#Transpose matix\n",
    "a=[[2,5,8],[3,6,9],[4,7,10]]\n",
    "for i in range(0,3):\n",
    "    for j in range(0,3):\n",
    "        print(a[j][i],end=\" \")\n",
    "    print()\n",
    "print(\"\\n\")    "
   ]
  },
  {
   "cell_type": "code",
   "execution_count": 19,
   "metadata": {},
   "outputs": [
    {
     "name": "stdout",
     "output_type": "stream",
     "text": [
      "(0.16666666666666666+0j)\n",
      "(0.5+0j)\n"
     ]
    }
   ],
   "source": [
    "#Solving quadratic equation\n",
    "import cmath\n",
    "a = 12\n",
    "b = -8\n",
    "c = 1\n",
    "# Discriminent\n",
    "d = (b**2) - (4*a*c)\n",
    "root1 = (-b - cmath.sqrt(d)) / (2 * a)\n",
    "root2 = (-b + cmath.sqrt(d)) / (2 * a)\n",
    "print(root1)\n",
    "print(root2)"
   ]
  },
  {
   "cell_type": "code",
   "execution_count": 24,
   "metadata": {},
   "outputs": [
    {
     "name": "stdout",
     "output_type": "stream",
     "text": [
      "Enter base value: 3\n",
      "Enter perpendicular value: 4\n",
      "Hypotenuse=  5.0\n"
     ]
    }
   ],
   "source": [
    "# find the hypotenuse using the Pythagorean theorem\n",
    "import math\n",
    "base=float(input(\"Enter base value: \"))\n",
    "perp=float(input(\"Enter perpendicular value: \"))\n",
    "hyp=(perp*perp)+(base*base)\n",
    "hypo=math.sqrt(hyp)\n",
    "print(\"Hypotenuse= \",hypo)"
   ]
  },
  {
   "cell_type": "code",
   "execution_count": 25,
   "metadata": {},
   "outputs": [
    {
     "name": "stdout",
     "output_type": "stream",
     "text": [
      "Nabeel\n",
      "Nabeel\n",
      "Nabeel\n",
      "Nabeel\n",
      "Nabeel\n",
      "Nabeel\n",
      "Nabeel\n",
      "Nabeel\n",
      "Nabeel\n",
      "Nabeel\n"
     ]
    }
   ],
   "source": [
    "#print name\n",
    "for i in range(2):\n",
    "    for j in range(5):\n",
    "        print(\"Nabeel\")"
   ]
  },
  {
   "cell_type": "code",
   "execution_count": 26,
   "metadata": {},
   "outputs": [
    {
     "name": "stdout",
     "output_type": "stream",
     "text": [
      "Enter the value of first side: 5\n",
      "Enter the value of second side: 5\n",
      "Enter the value of third side: 6\n",
      "It's an isoceles triangle\n"
     ]
    }
   ],
   "source": [
    "#isoceles triangle\n",
    "a=float(input(\"Enter the value of first side: \"))\n",
    "b=float(input(\"Enter the value of second side: \"))\n",
    "c=float(input(\"Enter the value of third side: \"))\n",
    "if a==b or a==c or b==c:\n",
    "    print(\"It's an isoceles triangle\")\n",
    "else:\n",
    "    print(\"It's not an isoceles triangle\")"
   ]
  },
  {
   "cell_type": "code",
   "execution_count": 27,
   "metadata": {},
   "outputs": [
    {
     "name": "stdout",
     "output_type": "stream",
     "text": [
      "Enter decimal number: 5\n",
      "In decimal=  5\n",
      "In binary=  0b101\n"
     ]
    }
   ],
   "source": [
    "#Decimal to binary Connversion\n",
    "n=int(input(\"Enter decimal number: \"))\n",
    "print(\"In decimal= \",n)\n",
    "print(\"In binary= \",bin(n))"
   ]
  },
  {
   "cell_type": "code",
   "execution_count": 32,
   "metadata": {},
   "outputs": [
    {
     "name": "stdout",
     "output_type": "stream",
     "text": [
      "Enter number to calculate rate of growth: 2\n",
      "log(n)=  0.6931471805599453 \n",
      "\n",
      "nlog(n)=  1.3862943611198906 \n",
      "\n",
      "n^2=  4.0 \n",
      "\n",
      "n^3=  8.0 \n",
      "\n",
      "n^4=  16.0 \n",
      "\n",
      "n^5=  32.0 \n",
      "\n",
      "n^6=  64.0 \n",
      "\n",
      "n^7=  128.0 \n",
      "\n",
      "n^8=  256.0\n"
     ]
    }
   ],
   "source": [
    "#USer input to calculate rate of growth\n",
    "import cmath\n",
    "n=int(input(\"Enter number to calculate rate of growth: \"))\n",
    "print(\"log(n)= \",math.log(n),\"\\n\")\n",
    "print(\"nlog(n)= \",n*math.log(n),\"\\n\")\n",
    "print(\"n^2= \",math.pow(n,2),\"\\n\")\n",
    "print(\"n^3= \",math.pow(n,3),\"\\n\")\n",
    "print(\"n^4= \",math.pow(n,4),\"\\n\")\n",
    "print(\"n^5= \",math.pow(n,5),\"\\n\")\n",
    "print(\"n^6= \",math.pow(n,6),\"\\n\")\n",
    "print(\"n^7= \",math.pow(n,7),\"\\n\")\n",
    "print(\"n^8= \",math.pow(n,8))"
   ]
  },
  {
   "cell_type": "code",
   "execution_count": 35,
   "metadata": {},
   "outputs": [
    {
     "name": "stdout",
     "output_type": "stream",
     "text": [
      "Enter first value: 10\n",
      "Select operator: %\n",
      "Enter second value: 2\n",
      "Modulus=  0\n"
     ]
    }
   ],
   "source": [
    "#Calculator\n",
    "a=int(input(\"Enter first value: \"))\n",
    "operator=input(\"Select operator: \")\n",
    "b=int(input(\"Enter second value: \"))\n",
    "if operator=='+':\n",
    "    print(\"Sum= \",a+b)\n",
    "elif operator=='-':\n",
    "    print(\"Subtraction= \",a-b)\n",
    "elif operator=='*':\n",
    "    print(\"Multiplication= \",a*b)\n",
    "elif operator=='/':\n",
    "    print(\"Division= \",a/b)\n",
    "else:\n",
    "    print(\"Modulus= \",a%b)   "
   ]
  },
  {
   "cell_type": "code",
   "execution_count": 56,
   "metadata": {},
   "outputs": [
    {
     "name": "stdout",
     "output_type": "stream",
     "text": [
      "AND:  False\n",
      "OR:  True\n",
      "NOT:  True\n",
      "NAND:  True\n",
      "NOR:  False\n",
      "XOR:  0\n"
     ]
    }
   ],
   "source": [
    "#Logical Operators\n",
    "a=5\n",
    "b=5\n",
    "print(\"AND: \",(a==4) and (b==10))\n",
    "print(\"OR: \",(a==4) or (b==5))\n",
    "print(\"NOT: \",not(a == 6))\n",
    "print(\"NAND: \",not((a==4) and (b==10)))\n",
    "print(\"NOR: \",not((a==4) or (b==5)))\n",
    "print(\"XOR: \",a^b)"
   ]
  },
  {
   "cell_type": "code",
   "execution_count": 40,
   "metadata": {},
   "outputs": [
    {
     "name": "stdout",
     "output_type": "stream",
     "text": [
      "Enter first value: 2\n",
      "Enter second value: 1\n",
      "Enter third value: 4\n",
      "Makes a triangle\n"
     ]
    }
   ],
   "source": [
    "#Checking conditions of triangle\n",
    "a=int(input(\"Enter first value: \"))\n",
    "b=int(input(\"Enter second value: \"))\n",
    "c=int(input(\"Enter third value: \"))\n",
    "if a+b>c:\n",
    "    print(\"Makes a triangle\")\n",
    "elif a+c>b:\n",
    "    print(\"Makes a triangle\")\n",
    "elif b+c>a:\n",
    "    print(\"Makes a triangle\")\n",
    "else:\n",
    "    print(\"Condition doesn't satisfy\")"
   ]
  },
  {
   "cell_type": "code",
   "execution_count": 42,
   "metadata": {},
   "outputs": [
    {
     "name": "stdout",
     "output_type": "stream",
     "text": [
      "18*x**2 + 14*x + 5\n"
     ]
    }
   ],
   "source": [
    "#Finding simple derivative\n",
    "from sympy import *\n",
    "import numpy\n",
    "x=Symbol('x')\n",
    "equation=6*x**3+7*x**2+5*x+3\n",
    "d=equation.diff(x)\n",
    "print(d)"
   ]
  },
  {
   "cell_type": "code",
   "execution_count": 51,
   "metadata": {},
   "outputs": [
    {
     "name": "stdout",
     "output_type": "stream",
     "text": [
      "Enter current value: 2.5\n",
      "Enter time in seconds: 2\n",
      "Charge value is:  5.0  Coulumb\n"
     ]
    }
   ],
   "source": [
    "#Calculating Charge\n",
    "current=float(input(\"Enter current value: \"))\n",
    "time=float(input(\"Enter time in seconds: \"))\n",
    "charge = current * time\n",
    "print(\"Charge value is: \",charge,\" Coulumb\")"
   ]
  },
  {
   "cell_type": "code",
   "execution_count": 61,
   "metadata": {},
   "outputs": [
    {
     "name": "stdout",
     "output_type": "stream",
     "text": [
      "How many number of resistors value you want to enter: 3\n",
      "Enter Value: 1\n",
      "Enter Value: 2\n",
      "Enter Value: 2\n",
      "5.0  ohm\n"
     ]
    }
   ],
   "source": [
    "#Calculating Resistance in series\n",
    "resistance=[]\n",
    "tot_resistance=0\n",
    "n=int(input(\"How many number of resistors value you want to enter: \"))\n",
    "for i in range(n):\n",
    "    value=float(input(\"Enter Value: \"))\n",
    "    resistance.append(value)\n",
    "for i in range(n):\n",
    "    tot_resistance+=resistance[i]\n",
    "print(tot_resistance,\" ohm\")    "
   ]
  },
  {
   "cell_type": "code",
   "execution_count": 63,
   "metadata": {},
   "outputs": [
    {
     "name": "stdout",
     "output_type": "stream",
     "text": [
      "How many number of resistors value you want to enter: 3\n",
      "Enter Value: 1\n",
      "Enter Value: 2\n",
      "Enter Value: 3\n",
      "0.5454545454545455  Ohm\n"
     ]
    }
   ],
   "source": [
    "#Calculating resistance in parallel\n",
    "resistance=[]\n",
    "t_resistance=0\n",
    "tot_resistance=0\n",
    "n=int(input(\"How many number of resistors value you want to enter: \"))\n",
    "for i in range(n):\n",
    "    value=float(input(\"Enter Value: \"))\n",
    "    resistance.append(value)\n",
    "for i in range(n):\n",
    "    t_resistance+=1/resistance[i]\n",
    "tot_resistance=1/t_resistance    \n",
    "print(tot_resistance,\" Ohm\")    "
   ]
  },
  {
   "cell_type": "code",
   "execution_count": 65,
   "metadata": {},
   "outputs": [
    {
     "name": "stdout",
     "output_type": "stream",
     "text": [
      "After Swapping a=  5\n",
      "After Swapping b=  2\n"
     ]
    }
   ],
   "source": [
    "#Swapping two numbers using bitwise operator\n",
    "a=2\n",
    "b=5\n",
    "a = a ^ b\n",
    "b = a ^ b\n",
    "a = a ^ b\n",
    "print(\"After Swapping a= \",a)\n",
    "print(\"After Swapping b= \",b)"
   ]
  },
  {
   "cell_type": "code",
   "execution_count": 75,
   "metadata": {},
   "outputs": [
    {
     "name": "stdout",
     "output_type": "stream",
     "text": [
      "Enter name: NABEEL\n",
      "ABEELN\n"
     ]
    }
   ],
   "source": [
    "name=str(input(\"Enter name: \"))\n",
    "p=[]\n",
    "l=len(name)\n",
    "for i in range(0,l):\n",
    "    p.append(name[i])\n",
    "for i in range(0,l):\n",
    "    for j in range(0,l):\n",
    "        if p[i]<p[j]:\n",
    "            s=p[i]\n",
    "            p[i]=p[j]\n",
    "            p[j]=s\n",
    "j=\"\"\n",
    "for i in range(0,l):\n",
    "    j=j+p[i]\n",
    "print(j)    "
   ]
  },
  {
   "cell_type": "code",
   "execution_count": 74,
   "metadata": {},
   "outputs": [
    {
     "name": "stdout",
     "output_type": "stream",
     "text": [
      "\n",
      "\n",
      "1 \n",
      "\n",
      "2 3 \n",
      "\n",
      "4 5 6 \n",
      "\n",
      "7 8 9 10 \n",
      "\n"
     ]
    }
   ],
   "source": [
    "#Creating shape\n",
    "x=[1,2,3,4,5,6,7,8,9,10]\n",
    "a=0\n",
    "for i in range(5):\n",
    "    for j in range(i):\n",
    "        print(x[a],end=\" \")\n",
    "        a+=1\n",
    "    print(\"\\n\")    "
   ]
  },
  {
   "cell_type": "code",
   "execution_count": null,
   "metadata": {},
   "outputs": [],
   "source": []
  }
 ],
 "metadata": {
  "kernelspec": {
   "display_name": "Python 3",
   "language": "python",
   "name": "python3"
  },
  "language_info": {
   "codemirror_mode": {
    "name": "ipython",
    "version": 3
   },
   "file_extension": ".py",
   "mimetype": "text/x-python",
   "name": "python",
   "nbconvert_exporter": "python",
   "pygments_lexer": "ipython3",
   "version": "3.7.0"
  }
 },
 "nbformat": 4,
 "nbformat_minor": 2
}
