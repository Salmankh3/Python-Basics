{
 "cells": [
  {
   "cell_type": "code",
   "execution_count": 1,
   "metadata": {},
   "outputs": [],
   "source": [
    "class Man():\n",
    "    def __init__(self, name, fname, age):\n",
    "        self.name = name\n",
    "        self.fname = fname\n",
    "        self.age = age\n",
    "    def speaking(self, speak = \"Hello\"):\n",
    "        print(speak)\n",
    "    def walking(self, walk = \"Slowly\"):\n",
    "        print(walk)"
   ]
  },
  {
   "cell_type": "code",
   "execution_count": 2,
   "metadata": {},
   "outputs": [],
   "source": [
    "obj1 = Man(\"nabeel\", \"iqbal\", 20)\n",
    "obj2 = Man(\"sameer\", \"saleem\", 20)\n",
    "obj3 = Man(\"salman\", \"rahim\", 20)"
   ]
  },
  {
   "cell_type": "code",
   "execution_count": 3,
   "metadata": {},
   "outputs": [
    {
     "data": {
      "text/plain": [
       "20"
      ]
     },
     "execution_count": 3,
     "metadata": {},
     "output_type": "execute_result"
    }
   ],
   "source": [
    "obj1.age"
   ]
  },
  {
   "cell_type": "code",
   "execution_count": 4,
   "metadata": {},
   "outputs": [
    {
     "data": {
      "text/plain": [
       "'saleem'"
      ]
     },
     "execution_count": 4,
     "metadata": {},
     "output_type": "execute_result"
    }
   ],
   "source": [
    "obj2.fname"
   ]
  },
  {
   "cell_type": "code",
   "execution_count": 5,
   "metadata": {},
   "outputs": [
    {
     "name": "stdout",
     "output_type": "stream",
     "text": [
      "Assalam-o-Alaikum\n"
     ]
    }
   ],
   "source": [
    "obj3.speaking(\"Assalam-o-Alaikum\")"
   ]
  },
  {
   "cell_type": "code",
   "execution_count": 6,
   "metadata": {},
   "outputs": [
    {
     "name": "stdout",
     "output_type": "stream",
     "text": [
      "Hello\n"
     ]
    }
   ],
   "source": [
    "obj1.speaking()"
   ]
  },
  {
   "cell_type": "code",
   "execution_count": 9,
   "metadata": {},
   "outputs": [],
   "source": [
    "class Man():\n",
    "    counter = 0\n",
    "    def __init__(self, name, fname, age):\n",
    "        self.name = name\n",
    "        self.fname = fname\n",
    "        self.age = age\n",
    "        Man.counter += 1\n",
    "        print(Man.counter)\n",
    "    def speaking(self, speak = \"Hello\"):\n",
    "        print(speak)\n",
    "    def walking(self, walk = \"Slowly\"):\n",
    "        print(walk)"
   ]
  },
  {
   "cell_type": "code",
   "execution_count": 10,
   "metadata": {},
   "outputs": [
    {
     "name": "stdout",
     "output_type": "stream",
     "text": [
      "1\n",
      "2\n",
      "3\n"
     ]
    }
   ],
   "source": [
    "obj1 = Man(\"nabeel\", \"iqbal\", 20)\n",
    "obj2 = Man(\"sameer\", \"saleem\", 20)\n",
    "obj3 = Man(\"salman\", \"rahim\", 20)"
   ]
  },
  {
   "cell_type": "code",
   "execution_count": 11,
   "metadata": {},
   "outputs": [
    {
     "data": {
      "text/plain": [
       "3"
      ]
     },
     "execution_count": 11,
     "metadata": {},
     "output_type": "execute_result"
    }
   ],
   "source": [
    "Man.counter"
   ]
  },
  {
   "cell_type": "code",
   "execution_count": 15,
   "metadata": {},
   "outputs": [],
   "source": [
    "class Baba(Man):\n",
    "    pass\n",
    "    def eating(self, eat = \"Rotti\"):\n",
    "        print(eat)\n",
    "        "
   ]
  },
  {
   "cell_type": "code",
   "execution_count": 16,
   "metadata": {},
   "outputs": [
    {
     "name": "stdout",
     "output_type": "stream",
     "text": [
      "5\n"
     ]
    }
   ],
   "source": [
    "ob1 = Baba(\"ali\", \"fahad\", 19)"
   ]
  },
  {
   "cell_type": "code",
   "execution_count": 17,
   "metadata": {},
   "outputs": [
    {
     "name": "stdout",
     "output_type": "stream",
     "text": [
      "Hello\n"
     ]
    }
   ],
   "source": [
    "ob1.speaking()"
   ]
  },
  {
   "cell_type": "code",
   "execution_count": 18,
   "metadata": {},
   "outputs": [
    {
     "name": "stdout",
     "output_type": "stream",
     "text": [
      "Botti\n"
     ]
    }
   ],
   "source": [
    "ob1.eating(\"Botti\")"
   ]
  },
  {
   "cell_type": "code",
   "execution_count": 32,
   "metadata": {},
   "outputs": [],
   "source": [
    "class Baba(Man):\n",
    "    pass\n",
    "    def speaking(self, speak = \"Assalam-o-Alaikum\"):\n",
    "        print(speak)\n",
    "        "
   ]
  },
  {
   "cell_type": "code",
   "execution_count": 33,
   "metadata": {},
   "outputs": [
    {
     "name": "stdout",
     "output_type": "stream",
     "text": [
      "8\n",
      "Assalam-o-Alaikum\n"
     ]
    }
   ],
   "source": [
    "o1 = Baba(\"ali\", \"fahad\", 19)\n",
    "o1.speaking()"
   ]
  },
  {
   "cell_type": "code",
   "execution_count": 68,
   "metadata": {},
   "outputs": [],
   "source": [
    "class A(): \n",
    "    def __init__(self):\n",
    "        pass\n",
    "    def overloading(self, i=None):\n",
    "        if i is None:\n",
    "            print('first form')\n",
    "        else:\n",
    "            print('second form')"
   ]
  },
  {
   "cell_type": "code",
   "execution_count": 69,
   "metadata": {},
   "outputs": [
    {
     "name": "stdout",
     "output_type": "stream",
     "text": [
      "second form\n"
     ]
    }
   ],
   "source": [
    "ob = A()\n",
    "ob.overloading(2)"
   ]
  },
  {
   "cell_type": "code",
   "execution_count": 19,
   "metadata": {},
   "outputs": [],
   "source": [
    "class Employee():\n",
    "    def __init__(self, name, fname, pay):\n",
    "        self.name = name\n",
    "        self.fname = fname\n",
    "        self.pay = pay\n",
    "    def display(self):\n",
    "        print(self.name, self.fname, self.pay)"
   ]
  },
  {
   "cell_type": "code",
   "execution_count": 20,
   "metadata": {},
   "outputs": [],
   "source": [
    "ob = Employee(\"Nabeel\", \"Iqbal\", 100000)"
   ]
  },
  {
   "cell_type": "code",
   "execution_count": 21,
   "metadata": {},
   "outputs": [
    {
     "name": "stdout",
     "output_type": "stream",
     "text": [
      "Nabeel Iqbal 100000\n"
     ]
    }
   ],
   "source": [
    "ob.display()"
   ]
  },
  {
   "cell_type": "code",
   "execution_count": 25,
   "metadata": {},
   "outputs": [],
   "source": [
    "class Worker(Employee):\n",
    "    def __init__(self, name, fname, pay, designation):\n",
    "        super().__init__(name, fname, pay)\n",
    "        self.designation = designation\n",
    "    def display(self):\n",
    "        print(self.name, self.fname, self.pay, self.designation)"
   ]
  },
  {
   "cell_type": "code",
   "execution_count": 26,
   "metadata": {},
   "outputs": [],
   "source": [
    "object1 = Worker(\"Nabeel\", \"Iqbal\", 100000, \"A.I developer\")"
   ]
  },
  {
   "cell_type": "code",
   "execution_count": 27,
   "metadata": {},
   "outputs": [
    {
     "data": {
      "text/plain": [
       "'A.I developer'"
      ]
     },
     "execution_count": 27,
     "metadata": {},
     "output_type": "execute_result"
    }
   ],
   "source": [
    "object1.designation"
   ]
  },
  {
   "cell_type": "code",
   "execution_count": 28,
   "metadata": {},
   "outputs": [
    {
     "name": "stdout",
     "output_type": "stream",
     "text": [
      "Nabeel Iqbal 100000 A.I developer\n"
     ]
    }
   ],
   "source": [
    "object1.display()"
   ]
  },
  {
   "cell_type": "code",
   "execution_count": 34,
   "metadata": {},
   "outputs": [],
   "source": [
    "class Data():\n",
    "    def __init__(self, name, age):\n",
    "        self.__name = name\n",
    "        self.__age = age\n",
    "    def setValues(self, name, age):\n",
    "        self.__name = name\n",
    "        self.__age = age\n",
    "    def __Hello(self, speak = \"Hello\"):\n",
    "        print(speak)"
   ]
  },
  {
   "cell_type": "code",
   "execution_count": 35,
   "metadata": {},
   "outputs": [],
   "source": [
    "ocd = Data(\"Nabeel\", 20)"
   ]
  },
  {
   "cell_type": "code",
   "execution_count": 41,
   "metadata": {},
   "outputs": [],
   "source": [
    "ocd._Data__name = \"Sameer\""
   ]
  },
  {
   "cell_type": "code",
   "execution_count": 42,
   "metadata": {},
   "outputs": [
    {
     "data": {
      "text/plain": [
       "'Sameer'"
      ]
     },
     "execution_count": 42,
     "metadata": {},
     "output_type": "execute_result"
    }
   ],
   "source": [
    "ocd._Data__name"
   ]
  },
  {
   "cell_type": "code",
   "execution_count": 43,
   "metadata": {},
   "outputs": [],
   "source": [
    "ocd.setValues(\"Ali\", 23)"
   ]
  },
  {
   "cell_type": "code",
   "execution_count": 44,
   "metadata": {},
   "outputs": [
    {
     "data": {
      "text/plain": [
       "23"
      ]
     },
     "execution_count": 44,
     "metadata": {},
     "output_type": "execute_result"
    }
   ],
   "source": [
    "ocd._Data__age"
   ]
  },
  {
   "cell_type": "code",
   "execution_count": 47,
   "metadata": {},
   "outputs": [
    {
     "name": "stdout",
     "output_type": "stream",
     "text": [
      "Hello\n"
     ]
    }
   ],
   "source": [
    "ocd._Data__Hello()"
   ]
  },
  {
   "cell_type": "code",
   "execution_count": 49,
   "metadata": {},
   "outputs": [],
   "source": [
    "from abc import ABC, abstractmethod\n",
    "class Human(ABC):\n",
    "    @abstractmethod\n",
    "    def __init__(self, name, fname):\n",
    "        self.name = name\n",
    "        self.fname = fname\n",
    "    def speaking(self, speak = \"Hello\"):\n",
    "        print(speak)"
   ]
  },
  {
   "cell_type": "code",
   "execution_count": 53,
   "metadata": {},
   "outputs": [],
   "source": [
    "class Male(Human):\n",
    "    def __init__(self, name, fname):\n",
    "        self.name = name\n",
    "        self.fname = fname\n",
    "    def sleeping(self, sleep = \"sleeping\"):\n",
    "        print(sleep)"
   ]
  },
  {
   "cell_type": "code",
   "execution_count": 54,
   "metadata": {
    "collapsed": true
   },
   "outputs": [],
   "source": [
    "obj = Male(\"Nabeel\", \"Iqbal\")"
   ]
  },
  {
   "cell_type": "code",
   "execution_count": 55,
   "metadata": {},
   "outputs": [
    {
     "name": "stdout",
     "output_type": "stream",
     "text": [
      "Hello\n"
     ]
    }
   ],
   "source": [
    "obj.speaking()"
   ]
  },
  {
   "cell_type": "code",
   "execution_count": 56,
   "metadata": {},
   "outputs": [
    {
     "name": "stdout",
     "output_type": "stream",
     "text": [
      "sleeping\n"
     ]
    }
   ],
   "source": [
    "obj.sleeping()"
   ]
  },
  {
   "cell_type": "code",
   "execution_count": 57,
   "metadata": {},
   "outputs": [
    {
     "data": {
      "text/plain": [
       "'Nabeel'"
      ]
     },
     "execution_count": 57,
     "metadata": {},
     "output_type": "execute_result"
    }
   ],
   "source": [
    "obj.name"
   ]
  },
  {
   "cell_type": "code",
   "execution_count": null,
   "metadata": {},
   "outputs": [],
   "source": []
  }
 ],
 "metadata": {
  "kernelspec": {
   "display_name": "Python 3",
   "language": "python",
   "name": "python3"
  },
  "language_info": {
   "codemirror_mode": {
    "name": "ipython",
    "version": 3
   },
   "file_extension": ".py",
   "mimetype": "text/x-python",
   "name": "python",
   "nbconvert_exporter": "python",
   "pygments_lexer": "ipython3",
   "version": "3.7.0"
  }
 },
 "nbformat": 4,
 "nbformat_minor": 2
}
