{
 "cells": [
  {
   "cell_type": "code",
   "execution_count": 1,
   "metadata": {},
   "outputs": [
    {
     "name": "stdout",
     "output_type": "stream",
     "text": [
      "Successful\n"
     ]
    }
   ],
   "source": [
    "a=\"True\"\n",
    "if a==\"True\":\n",
    "    print(\"Successful\")\n"
   ]
  },
  {
   "cell_type": "code",
   "execution_count": 3,
   "metadata": {},
   "outputs": [
    {
     "name": "stdout",
     "output_type": "stream",
     "text": [
      "Word not Matched\n"
     ]
    }
   ],
   "source": [
    "s=\"Create\"\n",
    "if s==\"Destroy\":\n",
    "    print(\"Ruin\")\n",
    "else:\n",
    "    print(\"Word not Matched\")"
   ]
  },
  {
   "cell_type": "code",
   "execution_count": 5,
   "metadata": {},
   "outputs": [
    {
     "name": "stdout",
     "output_type": "stream",
     "text": [
      "Eligible for NIC\n"
     ]
    }
   ],
   "source": [
    "age=21\n",
    "if age==18:\n",
    "    print(\"Eligible for NIC\")\n",
    "elif age>18:\n",
    "    print(\"Eligible for NIC\")\n",
    "else:\n",
    "    print(\"Not eliginle for NIC\")"
   ]
  },
  {
   "cell_type": "code",
   "execution_count": 6,
   "metadata": {},
   "outputs": [
    {
     "name": "stdout",
     "output_type": "stream",
     "text": [
      "Drop\n",
      "Drop\n",
      "Drop\n",
      "Drop\n",
      "Drop\n"
     ]
    }
   ],
   "source": [
    "a = \"Drop\"\n",
    "for i in range(0,5):\n",
    "    print(a)\n"
   ]
  },
  {
   "cell_type": "code",
   "execution_count": 7,
   "metadata": {},
   "outputs": [
    {
     "name": "stdout",
     "output_type": "stream",
     "text": [
      "1\n",
      "3\n",
      "5\n",
      "7\n",
      "9\n",
      "11\n",
      "13\n",
      "15\n",
      "17\n",
      "19\n"
     ]
    }
   ],
   "source": [
    "for i in range(1,20,2):\n",
    "    print(i)\n"
   ]
  },
  {
   "cell_type": "code",
   "execution_count": 8,
   "metadata": {},
   "outputs": [
    {
     "name": "stdout",
     "output_type": "stream",
     "text": [
      "0\n",
      "2\n",
      "4\n",
      "6\n",
      "8\n",
      "10\n",
      "12\n",
      "14\n",
      "16\n",
      "18\n"
     ]
    }
   ],
   "source": [
    "for i in range(0,20,2):\n",
    "    print(i)\n"
   ]
  },
  {
   "cell_type": "code",
   "execution_count": 16,
   "metadata": {},
   "outputs": [],
   "source": [
    "west = open(\"west.txt\",\"w\")\n",
    "west.write(\"He is a good teacher, a clean hearted person\\n\")\n",
    "west.close()\n"
   ]
  },
  {
   "cell_type": "code",
   "execution_count": 17,
   "metadata": {},
   "outputs": [],
   "source": [
    "west = open(\"west.txt\",\"a\")\n",
    "west.write(\"Also a polite person.\")\n",
    "west.close()"
   ]
  },
  {
   "cell_type": "code",
   "execution_count": 18,
   "metadata": {},
   "outputs": [
    {
     "name": "stdout",
     "output_type": "stream",
     "text": [
      "He is a good teacher, a clean hearted person\n",
      "Also a polite person.\n"
     ]
    }
   ],
   "source": [
    "read_file = open(\"west.txt\",\"r\")\n",
    "print(read_file.read())"
   ]
  },
  {
   "cell_type": "code",
   "execution_count": 24,
   "metadata": {},
   "outputs": [],
   "source": [
    "with open(\"data.txt\",\"w\") as write_file:\n",
    "    write_file.write(\"Name\\n\")\n",
    "    write_file.write(\"Father Name\\n\")\n",
    "    write_file.write(\"Department\\n\")"
   ]
  },
  {
   "cell_type": "code",
   "execution_count": 23,
   "metadata": {},
   "outputs": [
    {
     "name": "stdout",
     "output_type": "stream",
     "text": [
      "Name\n",
      "Father Name\n",
      "Department\n",
      "Roll Number\n",
      "Address\n",
      "Grade\n"
     ]
    }
   ],
   "source": [
    "with open(\"data.txt\",\"a\") as write_file:\n",
    "    write_file.write(\"Roll Number\\nAddress\\nGrade\")\n",
    "with open(\"data.txt\",\"r\") as read_file01:\n",
    "    print(read_file01.read())"
   ]
  },
  {
   "cell_type": "code",
   "execution_count": null,
   "metadata": {},
   "outputs": [],
   "source": []
  }
 ],
 "metadata": {
  "kernelspec": {
   "display_name": "Python 3",
   "language": "python",
   "name": "python3"
  },
  "language_info": {
   "codemirror_mode": {
    "name": "ipython",
    "version": 3
   },
   "file_extension": ".py",
   "mimetype": "text/x-python",
   "name": "python",
   "nbconvert_exporter": "python",
   "pygments_lexer": "ipython3",
   "version": "3.7.0"
  }
 },
 "nbformat": 4,
 "nbformat_minor": 2
}
