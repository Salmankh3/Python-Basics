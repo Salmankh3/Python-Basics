{
 "cells": [
  {
   "cell_type": "code",
   "execution_count": null,
   "metadata": {},
   "outputs": [],
   "source": [
    "PYTHON MODULE:\n",
    "A file of python is called Python Module. the folder in which it is saved is called package.\n",
    "\n",
    "\n",
    "PACKAGE MANAGER: \n",
    "    pip and conda -- for installing packages\n",
    "    \n",
    "    \n",
    "LIBRARY:\n",
    "    \n",
    "\n",
    "\n"
   ]
  },
  {
   "cell_type": "code",
   "execution_count": null,
   "metadata": {},
   "outputs": [],
   "source": [
    "# Process in which a function calls itself in it's body is called as Recursion\n",
    "# This type of function is called Recursive Function\n",
    "TWO RULES:\n",
    "# Base case always called so that function will not call itself\n",
    "# infinitely"
   ]
  },
  {
   "cell_type": "markdown",
   "metadata": {},
   "source": [
    "# RECURSION"
   ]
  },
  {
   "cell_type": "code",
   "execution_count": null,
   "metadata": {},
   "outputs": [],
   "source": [
    "#SUM OF 'N' NUMBERS\n",
    "def sum(n):\n",
    "    if n<0:\n",
    "        return 0 #base case\n",
    "    else:\n",
    "        return(n+sum(n-1)) #recursive case\n",
    "print(sum(5))"
   ]
  },
  {
   "cell_type": "code",
   "execution_count": null,
   "metadata": {},
   "outputs": [],
   "source": [
    "#FACTORIAL\n",
    "def fact(n):\n",
    "    if n<1:\n",
    "        return 1\n",
    "    else:\n",
    "        return(n*fact(n-1))\n",
    "print(fact(5))"
   ]
  },
  {
   "cell_type": "code",
   "execution_count": null,
   "metadata": {},
   "outputs": [],
   "source": [
    "## FACTORIAL THROUGH LOOP(without fuction)\n",
    "num = int(input(\"Enter a number: \"))\n",
    "fac = 1\n",
    "for i in range(1, num + 1):\n",
    "    fac = fac * i\n",
    "    \n",
    "print(num,\"! = \",fac)"
   ]
  },
  {
   "cell_type": "markdown",
   "metadata": {},
   "source": [
    "# LAMBDA FUNCTION"
   ]
  },
  {
   "cell_type": "code",
   "execution_count": null,
   "metadata": {},
   "outputs": [],
   "source": [
    "x = lambda a:a+2\n",
    "x(3)"
   ]
  },
  {
   "cell_type": "code",
   "execution_count": null,
   "metadata": {},
   "outputs": [],
   "source": [
    "def square(n):\n",
    "    return lambda n:n*n\n",
    "\n",
    "square(3)"
   ]
  },
  {
   "cell_type": "markdown",
   "metadata": {},
   "source": [
    "Lambda Function is an Anonymous Function.. \n",
    "It is written within a line (declaration , condition, return value) .. \n",
    "It is only executed in one line .. not after or before"
   ]
  },
  {
   "cell_type": "code",
   "execution_count": null,
   "metadata": {},
   "outputs": [],
   "source": [
    "Lambda Function Syntax = lambda parameter_list : function_body\n"
   ]
  },
  {
   "cell_type": "code",
   "execution_count": null,
   "metadata": {},
   "outputs": [],
   "source": [
    "y = lambda a,b,c:a+b+c\n",
    "y(2,3,4)"
   ]
  },
  {
   "cell_type": "code",
   "execution_count": null,
   "metadata": {},
   "outputs": [],
   "source": [
    "a = lambda num:True if num%2==0 else False\n",
    "a(7)"
   ]
  },
  {
   "cell_type": "code",
   "execution_count": 1,
   "metadata": {},
   "outputs": [],
   "source": [
    "list = []\n",
    "for i in range (1,1000):\n",
    "    list.append(i)\n",
    "y = lambda list:list[i] if list[i]/10 and list[i]/15 and list[i]/25 else False"
   ]
  },
  {
   "cell_type": "code",
   "execution_count": 7,
   "metadata": {},
   "outputs": [
    {
     "ename": "SyntaxError",
     "evalue": "invalid syntax (<ipython-input-7-9bc8e1308931>, line 4)",
     "output_type": "error",
     "traceback": [
      "\u001b[1;36m  File \u001b[1;32m\"<ipython-input-7-9bc8e1308931>\"\u001b[1;36m, line \u001b[1;32m4\u001b[0m\n\u001b[1;33m    y = lambda list:[print(list[i]) if list[i]/10 and list[i]/15 and list[i]/25]\u001b[0m\n\u001b[1;37m                                                                               ^\u001b[0m\n\u001b[1;31mSyntaxError\u001b[0m\u001b[1;31m:\u001b[0m invalid syntax\n"
     ]
    }
   ],
   "source": [
    "list = []\n",
    "for i in range (1,1000):\n",
    "    list.append(i)\n",
    "y = lambda list:[print(list[i]) if list[i]/10 and list[i]/15 and list[i]/25]"
   ]
  },
  {
   "cell_type": "code",
   "execution_count": null,
   "metadata": {},
   "outputs": [],
   "source": []
  }
 ],
 "metadata": {
  "kernelspec": {
   "display_name": "Python 3",
   "language": "python",
   "name": "python3"
  },
  "language_info": {
   "codemirror_mode": {
    "name": "ipython",
    "version": 3
   },
   "file_extension": ".py",
   "mimetype": "text/x-python",
   "name": "python",
   "nbconvert_exporter": "python",
   "pygments_lexer": "ipython3",
   "version": "3.7.0"
  }
 },
 "nbformat": 4,
 "nbformat_minor": 2
}
