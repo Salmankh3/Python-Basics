{
 "cells": [
  {
   "cell_type": "markdown",
   "metadata": {},
   "source": [
    "# 3rd November 2019"
   ]
  },
  {
   "cell_type": "markdown",
   "metadata": {},
   "source": [
    "Reading And Writing Data in Text Format"
   ]
  },
  {
   "cell_type": "code",
   "execution_count": 2,
   "metadata": {},
   "outputs": [],
   "source": [
    "import pandas as pd"
   ]
  },
  {
   "cell_type": "code",
   "execution_count": 21,
   "metadata": {},
   "outputs": [],
   "source": [
    "test1 = pd.read_csv(\"C:/Users/hp/Desktop/PIAIC/Class6/data.csv\")"
   ]
  },
  {
   "cell_type": "code",
   "execution_count": 22,
   "metadata": {},
   "outputs": [
    {
     "data": {
      "text/html": [
       "<div>\n",
       "<style scoped>\n",
       "    .dataframe tbody tr th:only-of-type {\n",
       "        vertical-align: middle;\n",
       "    }\n",
       "\n",
       "    .dataframe tbody tr th {\n",
       "        vertical-align: top;\n",
       "    }\n",
       "\n",
       "    .dataframe thead th {\n",
       "        text-align: right;\n",
       "    }\n",
       "</style>\n",
       "<table border=\"1\" class=\"dataframe\">\n",
       "  <thead>\n",
       "    <tr style=\"text-align: right;\">\n",
       "      <th></th>\n",
       "      <th>Name</th>\n",
       "      <th>Father Name</th>\n",
       "      <th>Age</th>\n",
       "      <th>Address</th>\n",
       "      <th>Phone</th>\n",
       "    </tr>\n",
       "  </thead>\n",
       "  <tbody>\n",
       "    <tr>\n",
       "      <th>0</th>\n",
       "      <td>Salman</td>\n",
       "      <td>Abdul Rahim</td>\n",
       "      <td>19</td>\n",
       "      <td>Kumharwada</td>\n",
       "      <td>3208314494</td>\n",
       "    </tr>\n",
       "    <tr>\n",
       "      <th>1</th>\n",
       "      <td>Nabeel</td>\n",
       "      <td>Muhammad Iqbal</td>\n",
       "      <td>20</td>\n",
       "      <td>8 Chowk</td>\n",
       "      <td>3172769963</td>\n",
       "    </tr>\n",
       "    <tr>\n",
       "      <th>2</th>\n",
       "      <td>Uzaif Ahmed</td>\n",
       "      <td>Bashir Ahmed</td>\n",
       "      <td>20</td>\n",
       "      <td>Baghdadi</td>\n",
       "      <td>3339356684</td>\n",
       "    </tr>\n",
       "    <tr>\n",
       "      <th>3</th>\n",
       "      <td>Raheel Ahmed</td>\n",
       "      <td>Muhammad Umer</td>\n",
       "      <td>22</td>\n",
       "      <td>Ghareeb Shah</td>\n",
       "      <td>3182116847</td>\n",
       "    </tr>\n",
       "  </tbody>\n",
       "</table>\n",
       "</div>"
      ],
      "text/plain": [
       "           Name      Father Name   Age        Address       Phone\n",
       "0        Salman      Abdul Rahim    19     Kumharwada  3208314494\n",
       "1        Nabeel   Muhammad Iqbal    20        8 Chowk  3172769963\n",
       "2   Uzaif Ahmed     Bashir Ahmed    20       Baghdadi  3339356684\n",
       "3  Raheel Ahmed    Muhammad Umer    22   Ghareeb Shah  3182116847"
      ]
     },
     "execution_count": 22,
     "metadata": {},
     "output_type": "execute_result"
    }
   ],
   "source": [
    "test1"
   ]
  },
  {
   "cell_type": "code",
   "execution_count": 23,
   "metadata": {},
   "outputs": [],
   "source": [
    "test2 = pd.read_csv(\"C:/Users/hp/Desktop/PIAIC/Class6/data2.csv\")"
   ]
  },
  {
   "cell_type": "code",
   "execution_count": 24,
   "metadata": {},
   "outputs": [
    {
     "data": {
      "text/html": [
       "<div>\n",
       "<style scoped>\n",
       "    .dataframe tbody tr th:only-of-type {\n",
       "        vertical-align: middle;\n",
       "    }\n",
       "\n",
       "    .dataframe tbody tr th {\n",
       "        vertical-align: top;\n",
       "    }\n",
       "\n",
       "    .dataframe thead th {\n",
       "        text-align: right;\n",
       "    }\n",
       "</style>\n",
       "<table border=\"1\" class=\"dataframe\">\n",
       "  <thead>\n",
       "    <tr style=\"text-align: right;\">\n",
       "      <th></th>\n",
       "      <th>emp_ID</th>\n",
       "      <th>emp_Name</th>\n",
       "      <th>Dept</th>\n",
       "    </tr>\n",
       "  </thead>\n",
       "  <tbody>\n",
       "    <tr>\n",
       "      <th>0</th>\n",
       "      <td>NaN</td>\n",
       "      <td>Inam</td>\n",
       "      <td>AI</td>\n",
       "    </tr>\n",
       "    <tr>\n",
       "      <th>1</th>\n",
       "      <td>C45</td>\n",
       "      <td>NaN</td>\n",
       "      <td>Cloud</td>\n",
       "    </tr>\n",
       "    <tr>\n",
       "      <th>2</th>\n",
       "      <td>A23</td>\n",
       "      <td>Uzair</td>\n",
       "      <td>NaN</td>\n",
       "    </tr>\n",
       "  </tbody>\n",
       "</table>\n",
       "</div>"
      ],
      "text/plain": [
       "  emp_ID  emp_Name    Dept\n",
       "0    NaN      Inam      AI\n",
       "1    C45       NaN   Cloud\n",
       "2    A23     Uzair     NaN"
      ]
     },
     "execution_count": 24,
     "metadata": {},
     "output_type": "execute_result"
    }
   ],
   "source": [
    "test2"
   ]
  },
  {
   "cell_type": "code",
   "execution_count": 25,
   "metadata": {},
   "outputs": [
    {
     "data": {
      "text/html": [
       "<div>\n",
       "<style scoped>\n",
       "    .dataframe tbody tr th:only-of-type {\n",
       "        vertical-align: middle;\n",
       "    }\n",
       "\n",
       "    .dataframe tbody tr th {\n",
       "        vertical-align: top;\n",
       "    }\n",
       "\n",
       "    .dataframe thead th {\n",
       "        text-align: right;\n",
       "    }\n",
       "</style>\n",
       "<table border=\"1\" class=\"dataframe\">\n",
       "  <thead>\n",
       "    <tr style=\"text-align: right;\">\n",
       "      <th></th>\n",
       "      <th>Age</th>\n",
       "      <th>Phone</th>\n",
       "    </tr>\n",
       "  </thead>\n",
       "  <tbody>\n",
       "    <tr>\n",
       "      <th>count</th>\n",
       "      <td>4.000000</td>\n",
       "      <td>4.000000e+00</td>\n",
       "    </tr>\n",
       "    <tr>\n",
       "      <th>mean</th>\n",
       "      <td>20.250000</td>\n",
       "      <td>3.225639e+09</td>\n",
       "    </tr>\n",
       "    <tr>\n",
       "      <th>std</th>\n",
       "      <td>1.258306</td>\n",
       "      <td>7.728985e+07</td>\n",
       "    </tr>\n",
       "    <tr>\n",
       "      <th>min</th>\n",
       "      <td>19.000000</td>\n",
       "      <td>3.172770e+09</td>\n",
       "    </tr>\n",
       "    <tr>\n",
       "      <th>25%</th>\n",
       "      <td>19.750000</td>\n",
       "      <td>3.179780e+09</td>\n",
       "    </tr>\n",
       "    <tr>\n",
       "      <th>50%</th>\n",
       "      <td>20.000000</td>\n",
       "      <td>3.195216e+09</td>\n",
       "    </tr>\n",
       "    <tr>\n",
       "      <th>75%</th>\n",
       "      <td>20.500000</td>\n",
       "      <td>3.241075e+09</td>\n",
       "    </tr>\n",
       "    <tr>\n",
       "      <th>max</th>\n",
       "      <td>22.000000</td>\n",
       "      <td>3.339357e+09</td>\n",
       "    </tr>\n",
       "  </tbody>\n",
       "</table>\n",
       "</div>"
      ],
      "text/plain": [
       "             Age         Phone\n",
       "count   4.000000  4.000000e+00\n",
       "mean   20.250000  3.225639e+09\n",
       "std     1.258306  7.728985e+07\n",
       "min    19.000000  3.172770e+09\n",
       "25%    19.750000  3.179780e+09\n",
       "50%    20.000000  3.195216e+09\n",
       "75%    20.500000  3.241075e+09\n",
       "max    22.000000  3.339357e+09"
      ]
     },
     "execution_count": 25,
     "metadata": {},
     "output_type": "execute_result"
    }
   ],
   "source": [
    "test1.describe()"
   ]
  },
  {
   "cell_type": "code",
   "execution_count": 26,
   "metadata": {},
   "outputs": [],
   "source": [
    "test3 = pd.read_csv(\"C:/Users/hp/Desktop/PIAIC/Class6/data3.csv\" ,sep=\" \") #sep"
   ]
  },
  {
   "cell_type": "code",
   "execution_count": 27,
   "metadata": {},
   "outputs": [
    {
     "data": {
      "text/html": [
       "<div>\n",
       "<style scoped>\n",
       "    .dataframe tbody tr th:only-of-type {\n",
       "        vertical-align: middle;\n",
       "    }\n",
       "\n",
       "    .dataframe tbody tr th {\n",
       "        vertical-align: top;\n",
       "    }\n",
       "\n",
       "    .dataframe thead th {\n",
       "        text-align: right;\n",
       "    }\n",
       "</style>\n",
       "<table border=\"1\" class=\"dataframe\">\n",
       "  <thead>\n",
       "    <tr style=\"text-align: right;\">\n",
       "      <th></th>\n",
       "      <th>emp_ID</th>\n",
       "      <th>emp_Name</th>\n",
       "      <th>Dept</th>\n",
       "    </tr>\n",
       "  </thead>\n",
       "  <tbody>\n",
       "    <tr>\n",
       "      <th>0</th>\n",
       "      <td>A78</td>\n",
       "      <td>Inam</td>\n",
       "      <td>AI</td>\n",
       "    </tr>\n",
       "    <tr>\n",
       "      <th>1</th>\n",
       "      <td>C45</td>\n",
       "      <td>Waqas</td>\n",
       "      <td>Cloud</td>\n",
       "    </tr>\n",
       "    <tr>\n",
       "      <th>2</th>\n",
       "      <td>A23</td>\n",
       "      <td>Uzair</td>\n",
       "      <td>Android</td>\n",
       "    </tr>\n",
       "  </tbody>\n",
       "</table>\n",
       "</div>"
      ],
      "text/plain": [
       "  emp_ID emp_Name     Dept\n",
       "0    A78     Inam       AI\n",
       "1    C45    Waqas    Cloud\n",
       "2    A23    Uzair  Android"
      ]
     },
     "execution_count": 27,
     "metadata": {},
     "output_type": "execute_result"
    }
   ],
   "source": [
    "test3"
   ]
  },
  {
   "cell_type": "code",
   "execution_count": 28,
   "metadata": {},
   "outputs": [],
   "source": [
    "test4= !cat C:/Users/hp/Desktop/PIAIC/Class6/data2.csv"
   ]
  },
  {
   "cell_type": "code",
   "execution_count": 29,
   "metadata": {},
   "outputs": [
    {
     "data": {
      "text/plain": [
       "[\"'cat' is not recognized as an internal or external command,\",\n",
       " 'operable program or batch file.']"
      ]
     },
     "execution_count": 29,
     "metadata": {},
     "output_type": "execute_result"
    }
   ],
   "source": [
    "test4"
   ]
  },
  {
   "cell_type": "code",
   "execution_count": 14,
   "metadata": {},
   "outputs": [],
   "source": [
    "test5= pd.read_clipboard()"
   ]
  },
  {
   "cell_type": "code",
   "execution_count": 15,
   "metadata": {},
   "outputs": [
    {
     "data": {
      "text/html": [
       "<div>\n",
       "<style scoped>\n",
       "    .dataframe tbody tr th:only-of-type {\n",
       "        vertical-align: middle;\n",
       "    }\n",
       "\n",
       "    .dataframe tbody tr th {\n",
       "        vertical-align: top;\n",
       "    }\n",
       "\n",
       "    .dataframe thead th {\n",
       "        text-align: right;\n",
       "    }\n",
       "</style>\n",
       "<table border=\"1\" class=\"dataframe\">\n",
       "  <thead>\n",
       "    <tr style=\"text-align: right;\">\n",
       "      <th></th>\n",
       "      <th>C:\\Users\\hp\\Desktop</th>\n",
       "    </tr>\n",
       "  </thead>\n",
       "  <tbody>\n",
       "  </tbody>\n",
       "</table>\n",
       "</div>"
      ],
      "text/plain": [
       "Empty DataFrame\n",
       "Columns: [C:\\Users\\hp\\Desktop]\n",
       "Index: []"
      ]
     },
     "execution_count": 15,
     "metadata": {},
     "output_type": "execute_result"
    }
   ],
   "source": [
    "test5"
   ]
  },
  {
   "cell_type": "code",
   "execution_count": 16,
   "metadata": {},
   "outputs": [
    {
     "data": {
      "text/html": [
       "<div>\n",
       "<style scoped>\n",
       "    .dataframe tbody tr th:only-of-type {\n",
       "        vertical-align: middle;\n",
       "    }\n",
       "\n",
       "    .dataframe tbody tr th {\n",
       "        vertical-align: top;\n",
       "    }\n",
       "\n",
       "    .dataframe thead th {\n",
       "        text-align: right;\n",
       "    }\n",
       "</style>\n",
       "<table border=\"1\" class=\"dataframe\">\n",
       "  <thead>\n",
       "    <tr style=\"text-align: right;\">\n",
       "      <th></th>\n",
       "      <th>C:\\Users\\hp\\Desktop</th>\n",
       "    </tr>\n",
       "  </thead>\n",
       "  <tbody>\n",
       "  </tbody>\n",
       "</table>\n",
       "</div>"
      ],
      "text/plain": [
       "Empty DataFrame\n",
       "Columns: [C:\\Users\\hp\\Desktop]\n",
       "Index: []"
      ]
     },
     "execution_count": 16,
     "metadata": {},
     "output_type": "execute_result"
    }
   ],
   "source": [
    "clip = pd.read_clipboard()\n",
    "clip"
   ]
  },
  {
   "cell_type": "code",
   "execution_count": 34,
   "metadata": {},
   "outputs": [],
   "source": [
    "test6 = pd.read_html(\"C:/Users/hp/Desktop/Project01.html\")"
   ]
  },
  {
   "cell_type": "code",
   "execution_count": 38,
   "metadata": {},
   "outputs": [
    {
     "data": {
      "text/html": [
       "<div>\n",
       "<style scoped>\n",
       "    .dataframe tbody tr th:only-of-type {\n",
       "        vertical-align: middle;\n",
       "    }\n",
       "\n",
       "    .dataframe tbody tr th {\n",
       "        vertical-align: top;\n",
       "    }\n",
       "\n",
       "    .dataframe thead th {\n",
       "        text-align: right;\n",
       "    }\n",
       "</style>\n",
       "<table border=\"1\" class=\"dataframe\">\n",
       "  <thead>\n",
       "    <tr style=\"text-align: right;\">\n",
       "      <th></th>\n",
       "      <th>0</th>\n",
       "      <th>1</th>\n",
       "      <th>2</th>\n",
       "      <th>3</th>\n",
       "      <th>4</th>\n",
       "      <th>5</th>\n",
       "    </tr>\n",
       "  </thead>\n",
       "  <tbody>\n",
       "    <tr>\n",
       "      <th>0</th>\n",
       "      <td>NaN</td>\n",
       "      <td>NaN</td>\n",
       "      <td>NaN</td>\n",
       "      <td>NaN</td>\n",
       "      <td>NaN</td>\n",
       "      <td>NaN</td>\n",
       "    </tr>\n",
       "    <tr>\n",
       "      <th>1</th>\n",
       "      <td>Rs.799now in Rs.599</td>\n",
       "      <td>Rs.799now in Rs.599</td>\n",
       "      <td>Rs.999now in Rs.749</td>\n",
       "      <td>Rs.799now in Rs.599</td>\n",
       "      <td>Rs.999now in Rs.749</td>\n",
       "      <td>Rs.1199now in Rs.899</td>\n",
       "    </tr>\n",
       "    <tr>\n",
       "      <th>2</th>\n",
       "      <td>NaN</td>\n",
       "      <td>NaN</td>\n",
       "      <td>NaN</td>\n",
       "      <td>NaN</td>\n",
       "      <td>NaN</td>\n",
       "      <td>NaN</td>\n",
       "    </tr>\n",
       "    <tr>\n",
       "      <th>3</th>\n",
       "      <td>Rs.999now in Rs.749</td>\n",
       "      <td>Rs.999now in Rs.749</td>\n",
       "      <td>Rs.1199now in Rs.899</td>\n",
       "      <td>Rs.999now in Rs.749</td>\n",
       "      <td>Rs.999now in Rs.749</td>\n",
       "      <td>Rs.899now in Rs.674</td>\n",
       "    </tr>\n",
       "    <tr>\n",
       "      <th>4</th>\n",
       "      <td>NaN</td>\n",
       "      <td>NaN</td>\n",
       "      <td>NaN</td>\n",
       "      <td>NaN</td>\n",
       "      <td>NaN</td>\n",
       "      <td>NaN</td>\n",
       "    </tr>\n",
       "    <tr>\n",
       "      <th>5</th>\n",
       "      <td>Rs.1499now in Rs.1125</td>\n",
       "      <td>Rs.999now in Rs.749</td>\n",
       "      <td>Rs.799now in Rs.599</td>\n",
       "      <td>Rs.999now in Rs.749</td>\n",
       "      <td>Rs.799now in Rs.599</td>\n",
       "      <td>Rs.799now in Rs.599</td>\n",
       "    </tr>\n",
       "    <tr>\n",
       "      <th>6</th>\n",
       "      <td>NaN</td>\n",
       "      <td>NaN</td>\n",
       "      <td>NaN</td>\n",
       "      <td>NaN</td>\n",
       "      <td>NaN</td>\n",
       "      <td>NaN</td>\n",
       "    </tr>\n",
       "    <tr>\n",
       "      <th>7</th>\n",
       "      <td>Rs.599now in Rs.449</td>\n",
       "      <td>Rs.799now in Rs.599</td>\n",
       "      <td>Rs.799now in Rs.599</td>\n",
       "      <td>Rs.799now in Rs.599</td>\n",
       "      <td>Rs.799now in Rs.599</td>\n",
       "      <td>Rs.799now in Rs.599</td>\n",
       "    </tr>\n",
       "    <tr>\n",
       "      <th>8</th>\n",
       "      <td>NaN</td>\n",
       "      <td>NaN</td>\n",
       "      <td>NaN</td>\n",
       "      <td>NaN</td>\n",
       "      <td>NaN</td>\n",
       "      <td>NaN</td>\n",
       "    </tr>\n",
       "    <tr>\n",
       "      <th>9</th>\n",
       "      <td>Rs.599now in Rs.449</td>\n",
       "      <td>Rs.799now in Rs.599</td>\n",
       "      <td>Rs.799now in Rs.599</td>\n",
       "      <td>Rs.799now in Rs.599</td>\n",
       "      <td>Rs.799now in Rs.599</td>\n",
       "      <td>Rs.799now in Rs.599</td>\n",
       "    </tr>\n",
       "    <tr>\n",
       "      <th>10</th>\n",
       "      <td>NaN</td>\n",
       "      <td>NaN</td>\n",
       "      <td>NaN</td>\n",
       "      <td>NaN</td>\n",
       "      <td>NaN</td>\n",
       "      <td>NaN</td>\n",
       "    </tr>\n",
       "    <tr>\n",
       "      <th>11</th>\n",
       "      <td>Rs.599now in Rs.449</td>\n",
       "      <td>Rs.799now in Rs.599</td>\n",
       "      <td>Rs.799now in Rs.599</td>\n",
       "      <td>Rs.799now in Rs.599</td>\n",
       "      <td>Rs.799now in Rs.599</td>\n",
       "      <td>Rs.799now in Rs.599</td>\n",
       "    </tr>\n",
       "    <tr>\n",
       "      <th>12</th>\n",
       "      <td>NaN</td>\n",
       "      <td>NaN</td>\n",
       "      <td>NaN</td>\n",
       "      <td>NaN</td>\n",
       "      <td>NaN</td>\n",
       "      <td>NaN</td>\n",
       "    </tr>\n",
       "    <tr>\n",
       "      <th>13</th>\n",
       "      <td>Rs.599now in Rs.449</td>\n",
       "      <td>Rs.799now in Rs.599</td>\n",
       "      <td>Rs.799now in Rs.599</td>\n",
       "      <td>Rs.799now in Rs.599</td>\n",
       "      <td>Rs.799now in Rs.599</td>\n",
       "      <td>Rs.799now in Rs.599</td>\n",
       "    </tr>\n",
       "    <tr>\n",
       "      <th>14</th>\n",
       "      <td>NaN</td>\n",
       "      <td>NaN</td>\n",
       "      <td>NaN</td>\n",
       "      <td>NaN</td>\n",
       "      <td>NaN</td>\n",
       "      <td>NaN</td>\n",
       "    </tr>\n",
       "    <tr>\n",
       "      <th>15</th>\n",
       "      <td>Rs.599now in Rs.449</td>\n",
       "      <td>Rs.799now in Rs.599</td>\n",
       "      <td>Rs.799now in Rs.599</td>\n",
       "      <td>Rs.799now in Rs.599</td>\n",
       "      <td>Rs.799now in Rs.599</td>\n",
       "      <td>Rs.799now in Rs.599</td>\n",
       "    </tr>\n",
       "  </tbody>\n",
       "</table>\n",
       "</div>"
      ],
      "text/plain": [
       "                        0                    1                     2  \\\n",
       "0                     NaN                  NaN                   NaN   \n",
       "1     Rs.799now in Rs.599  Rs.799now in Rs.599   Rs.999now in Rs.749   \n",
       "2                     NaN                  NaN                   NaN   \n",
       "3     Rs.999now in Rs.749  Rs.999now in Rs.749  Rs.1199now in Rs.899   \n",
       "4                     NaN                  NaN                   NaN   \n",
       "5   Rs.1499now in Rs.1125  Rs.999now in Rs.749   Rs.799now in Rs.599   \n",
       "6                     NaN                  NaN                   NaN   \n",
       "7     Rs.599now in Rs.449  Rs.799now in Rs.599   Rs.799now in Rs.599   \n",
       "8                     NaN                  NaN                   NaN   \n",
       "9     Rs.599now in Rs.449  Rs.799now in Rs.599   Rs.799now in Rs.599   \n",
       "10                    NaN                  NaN                   NaN   \n",
       "11    Rs.599now in Rs.449  Rs.799now in Rs.599   Rs.799now in Rs.599   \n",
       "12                    NaN                  NaN                   NaN   \n",
       "13    Rs.599now in Rs.449  Rs.799now in Rs.599   Rs.799now in Rs.599   \n",
       "14                    NaN                  NaN                   NaN   \n",
       "15    Rs.599now in Rs.449  Rs.799now in Rs.599   Rs.799now in Rs.599   \n",
       "\n",
       "                      3                    4                     5  \n",
       "0                   NaN                  NaN                   NaN  \n",
       "1   Rs.799now in Rs.599  Rs.999now in Rs.749  Rs.1199now in Rs.899  \n",
       "2                   NaN                  NaN                   NaN  \n",
       "3   Rs.999now in Rs.749  Rs.999now in Rs.749   Rs.899now in Rs.674  \n",
       "4                   NaN                  NaN                   NaN  \n",
       "5   Rs.999now in Rs.749  Rs.799now in Rs.599   Rs.799now in Rs.599  \n",
       "6                   NaN                  NaN                   NaN  \n",
       "7   Rs.799now in Rs.599  Rs.799now in Rs.599   Rs.799now in Rs.599  \n",
       "8                   NaN                  NaN                   NaN  \n",
       "9   Rs.799now in Rs.599  Rs.799now in Rs.599   Rs.799now in Rs.599  \n",
       "10                  NaN                  NaN                   NaN  \n",
       "11  Rs.799now in Rs.599  Rs.799now in Rs.599   Rs.799now in Rs.599  \n",
       "12                  NaN                  NaN                   NaN  \n",
       "13  Rs.799now in Rs.599  Rs.799now in Rs.599   Rs.799now in Rs.599  \n",
       "14                  NaN                  NaN                   NaN  \n",
       "15  Rs.799now in Rs.599  Rs.799now in Rs.599   Rs.799now in Rs.599  "
      ]
     },
     "execution_count": 38,
     "metadata": {},
     "output_type": "execute_result"
    }
   ],
   "source": [
    "test6[0]"
   ]
  },
  {
   "cell_type": "code",
   "execution_count": 41,
   "metadata": {},
   "outputs": [
    {
     "name": "stderr",
     "output_type": "stream",
     "text": [
      "'cat' is not recognized as an internal or external command,\n",
      "operable program or batch file.\n"
     ]
    },
    {
     "data": {
      "text/plain": [
       "'a,b,c,d,message 1,2,3,4,hello 5,6,7,8,world9,10,11,12,foot'"
      ]
     },
     "execution_count": 41,
     "metadata": {},
     "output_type": "execute_result"
    }
   ],
   "source": [
    "!cat C:/Users/hp/Desktop/PIAIC/Class6/data4.csv \n",
    "\"a,b,c,d,message 1,2,3,4,hello 5,6,7,8,world9,10,11,12,foot\"\n",
    "\n"
   ]
  },
  {
   "cell_type": "code",
   "execution_count": 43,
   "metadata": {},
   "outputs": [
    {
     "data": {
      "text/html": [
       "<div>\n",
       "<style scoped>\n",
       "    .dataframe tbody tr th:only-of-type {\n",
       "        vertical-align: middle;\n",
       "    }\n",
       "\n",
       "    .dataframe tbody tr th {\n",
       "        vertical-align: top;\n",
       "    }\n",
       "\n",
       "    .dataframe thead th {\n",
       "        text-align: right;\n",
       "    }\n",
       "</style>\n",
       "<table border=\"1\" class=\"dataframe\">\n",
       "  <thead>\n",
       "    <tr style=\"text-align: right;\">\n",
       "      <th></th>\n",
       "      <th>0</th>\n",
       "      <th>1</th>\n",
       "      <th>2</th>\n",
       "    </tr>\n",
       "  </thead>\n",
       "  <tbody>\n",
       "    <tr>\n",
       "      <th>0</th>\n",
       "      <td>emp_ID</td>\n",
       "      <td>emp_Name</td>\n",
       "      <td>Dept</td>\n",
       "    </tr>\n",
       "    <tr>\n",
       "      <th>1</th>\n",
       "      <td>NaN</td>\n",
       "      <td>Inam</td>\n",
       "      <td>AI</td>\n",
       "    </tr>\n",
       "    <tr>\n",
       "      <th>2</th>\n",
       "      <td>C45</td>\n",
       "      <td>NaN</td>\n",
       "      <td>Cloud</td>\n",
       "    </tr>\n",
       "    <tr>\n",
       "      <th>3</th>\n",
       "      <td>A23</td>\n",
       "      <td>Uzair</td>\n",
       "      <td>NaN</td>\n",
       "    </tr>\n",
       "  </tbody>\n",
       "</table>\n",
       "</div>"
      ],
      "text/plain": [
       "        0          1       2\n",
       "0  emp_ID   emp_Name    Dept\n",
       "1     NaN       Inam      AI\n",
       "2     C45        NaN   Cloud\n",
       "3     A23      Uzair     NaN"
      ]
     },
     "execution_count": 43,
     "metadata": {},
     "output_type": "execute_result"
    }
   ],
   "source": [
    "test2 = pd.read_csv(\"C:/Users/hp/Desktop/PIAIC/Class6/data2.csv\", header=None)\n",
    "test2"
   ]
  },
  {
   "cell_type": "code",
   "execution_count": 47,
   "metadata": {},
   "outputs": [
    {
     "data": {
      "text/html": [
       "<div>\n",
       "<style scoped>\n",
       "    .dataframe tbody tr th:only-of-type {\n",
       "        vertical-align: middle;\n",
       "    }\n",
       "\n",
       "    .dataframe tbody tr th {\n",
       "        vertical-align: top;\n",
       "    }\n",
       "\n",
       "    .dataframe thead th {\n",
       "        text-align: right;\n",
       "    }\n",
       "</style>\n",
       "<table border=\"1\" class=\"dataframe\">\n",
       "  <thead>\n",
       "    <tr style=\"text-align: right;\">\n",
       "      <th></th>\n",
       "      <th>Emp_ID</th>\n",
       "      <th>Emp_Name</th>\n",
       "    </tr>\n",
       "    <tr>\n",
       "      <th>Depart</th>\n",
       "      <th></th>\n",
       "      <th></th>\n",
       "    </tr>\n",
       "  </thead>\n",
       "  <tbody>\n",
       "    <tr>\n",
       "      <th>Dept</th>\n",
       "      <td>emp_ID</td>\n",
       "      <td>emp_Name</td>\n",
       "    </tr>\n",
       "    <tr>\n",
       "      <th>AI</th>\n",
       "      <td>NaN</td>\n",
       "      <td>Inam</td>\n",
       "    </tr>\n",
       "    <tr>\n",
       "      <th>Cloud</th>\n",
       "      <td>C45</td>\n",
       "      <td>NaN</td>\n",
       "    </tr>\n",
       "    <tr>\n",
       "      <th>NaN</th>\n",
       "      <td>A23</td>\n",
       "      <td>Uzair</td>\n",
       "    </tr>\n",
       "  </tbody>\n",
       "</table>\n",
       "</div>"
      ],
      "text/plain": [
       "        Emp_ID   Emp_Name\n",
       "Depart                   \n",
       " Dept   emp_ID   emp_Name\n",
       " AI        NaN       Inam\n",
       " Cloud     C45        NaN\n",
       "NaN        A23      Uzair"
      ]
     },
     "execution_count": 47,
     "metadata": {},
     "output_type": "execute_result"
    }
   ],
   "source": [
    "test2 = pd.read_csv(\"C:/Users/hp/Desktop/PIAIC/Class6/data2.csv\", header=None, names=[\"Emp_ID\", \"Emp_Name\",\"Depart\"],index_col=\"Depart\")\n",
    "test2"
   ]
  },
  {
   "cell_type": "code",
   "execution_count": 52,
   "metadata": {},
   "outputs": [
    {
     "data": {
      "text/html": [
       "<div>\n",
       "<style scoped>\n",
       "    .dataframe tbody tr th:only-of-type {\n",
       "        vertical-align: middle;\n",
       "    }\n",
       "\n",
       "    .dataframe tbody tr th {\n",
       "        vertical-align: top;\n",
       "    }\n",
       "\n",
       "    .dataframe thead th {\n",
       "        text-align: right;\n",
       "    }\n",
       "</style>\n",
       "<table border=\"1\" class=\"dataframe\">\n",
       "  <thead>\n",
       "    <tr style=\"text-align: right;\">\n",
       "      <th></th>\n",
       "      <th>Name</th>\n",
       "      <th>Father Name</th>\n",
       "      <th>Age</th>\n",
       "      <th>Address</th>\n",
       "      <th>Phone</th>\n",
       "    </tr>\n",
       "  </thead>\n",
       "  <tbody>\n",
       "    <tr>\n",
       "      <th>0</th>\n",
       "      <td>Salman</td>\n",
       "      <td>Abdul Rahim</td>\n",
       "      <td>19</td>\n",
       "      <td>Kumharwada</td>\n",
       "      <td>3208314494</td>\n",
       "    </tr>\n",
       "    <tr>\n",
       "      <th>1</th>\n",
       "      <td>Nabeel</td>\n",
       "      <td>Muhammad Iqbal</td>\n",
       "      <td>20</td>\n",
       "      <td>8 Chowk</td>\n",
       "      <td>3172769963</td>\n",
       "    </tr>\n",
       "    <tr>\n",
       "      <th>2</th>\n",
       "      <td>Uzaif Ahmed</td>\n",
       "      <td>Bashir Ahmed</td>\n",
       "      <td>20</td>\n",
       "      <td>Baghdadi</td>\n",
       "      <td>3339356684</td>\n",
       "    </tr>\n",
       "    <tr>\n",
       "      <th>3</th>\n",
       "      <td>Raheel Ahmed</td>\n",
       "      <td>Muhammad Umer</td>\n",
       "      <td>22</td>\n",
       "      <td>Ghareeb Shah</td>\n",
       "      <td>3182116847</td>\n",
       "    </tr>\n",
       "  </tbody>\n",
       "</table>\n",
       "</div>"
      ],
      "text/plain": [
       "           Name      Father Name   Age        Address       Phone\n",
       "0        Salman      Abdul Rahim    19     Kumharwada  3208314494\n",
       "1        Nabeel   Muhammad Iqbal    20        8 Chowk  3172769963\n",
       "2   Uzaif Ahmed     Bashir Ahmed    20       Baghdadi  3339356684\n",
       "3  Raheel Ahmed    Muhammad Umer    22   Ghareeb Shah  3182116847"
      ]
     },
     "execution_count": 52,
     "metadata": {},
     "output_type": "execute_result"
    }
   ],
   "source": [
    "test7 = pd.read_csv(\"C:/Users/hp/Desktop/PIAIC/Class6/data.csv\",)\n",
    "test7"
   ]
  },
  {
   "cell_type": "code",
   "execution_count": 56,
   "metadata": {},
   "outputs": [
    {
     "data": {
      "text/html": [
       "<div>\n",
       "<style scoped>\n",
       "    .dataframe tbody tr th:only-of-type {\n",
       "        vertical-align: middle;\n",
       "    }\n",
       "\n",
       "    .dataframe tbody tr th {\n",
       "        vertical-align: top;\n",
       "    }\n",
       "\n",
       "    .dataframe thead th {\n",
       "        text-align: right;\n",
       "    }\n",
       "</style>\n",
       "<table border=\"1\" class=\"dataframe\">\n",
       "  <thead>\n",
       "    <tr style=\"text-align: right;\">\n",
       "      <th></th>\n",
       "      <th>emp_ID</th>\n",
       "      <th>emp_Name</th>\n",
       "      <th>Dept</th>\n",
       "    </tr>\n",
       "  </thead>\n",
       "  <tbody>\n",
       "    <tr>\n",
       "      <th>0</th>\n",
       "      <td>NaN</td>\n",
       "      <td>Inam</td>\n",
       "      <td>AI</td>\n",
       "    </tr>\n",
       "    <tr>\n",
       "      <th>1</th>\n",
       "      <td>C45</td>\n",
       "      <td>-</td>\n",
       "      <td>Cloud</td>\n",
       "    </tr>\n",
       "    <tr>\n",
       "      <th>2</th>\n",
       "      <td>A23</td>\n",
       "      <td>Uzair</td>\n",
       "      <td>^</td>\n",
       "    </tr>\n",
       "  </tbody>\n",
       "</table>\n",
       "</div>"
      ],
      "text/plain": [
       "  emp_ID  emp_Name    Dept\n",
       "0    NaN      Inam      AI\n",
       "1    C45         -   Cloud\n",
       "2    A23     Uzair       ^"
      ]
     },
     "execution_count": 56,
     "metadata": {},
     "output_type": "execute_result"
    }
   ],
   "source": [
    "test2 = pd.read_csv(\"C:/Users/hp/Desktop/PIAIC/Class6/data2.csv\", na_values={\"emp_ID\": \"&\",\"emp_Name\": \"-\",\"Dept\": \"^\"})\n",
    "test2"
   ]
  },
  {
   "cell_type": "code",
   "execution_count": null,
   "metadata": {},
   "outputs": [],
   "source": []
  }
 ],
 "metadata": {
  "kernelspec": {
   "display_name": "Python 3",
   "language": "python",
   "name": "python3"
  },
  "language_info": {
   "codemirror_mode": {
    "name": "ipython",
    "version": 3
   },
   "file_extension": ".py",
   "mimetype": "text/x-python",
   "name": "python",
   "nbconvert_exporter": "python",
   "pygments_lexer": "ipython3",
   "version": "3.7.0"
  }
 },
 "nbformat": 4,
 "nbformat_minor": 2
}
