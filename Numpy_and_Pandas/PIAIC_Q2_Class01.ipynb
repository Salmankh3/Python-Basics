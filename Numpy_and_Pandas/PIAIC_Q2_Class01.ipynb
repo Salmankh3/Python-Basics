{
 "cells": [
  {
   "cell_type": "markdown",
   "metadata": {},
   "source": [
    "# Date: 22th September 2019"
   ]
  },
  {
   "cell_type": "markdown",
   "metadata": {},
   "source": [
    "# Topic: NumPy And Its Attributes"
   ]
  },
  {
   "cell_type": "markdown",
   "metadata": {},
   "source": [
    "- Linguo Franca for exchange\n",
    "- Data Exchange Library\n",
    "- Numeric Python \n",
    "- invented 2005 by Travis Oliphent\n",
    "- Consists of Array\n",
    "- Operations on arrays fastly\n",
    "- Read/Write array data\n",
    "- Linear algebra operations (Eigen Values, Matrices)\n",
    "- C language integration withv NumPy"
   ]
  },
  {
   "cell_type": "code",
   "execution_count": 2,
   "metadata": {},
   "outputs": [],
   "source": [
    "import numpy as np "
   ]
  },
  {
   "cell_type": "code",
   "execution_count": 2,
   "metadata": {},
   "outputs": [
    {
     "name": "stdout",
     "output_type": "stream",
     "text": [
      "Wall time: 0 ns\n"
     ]
    },
    {
     "data": {
      "text/plain": [
       "array([   0,    3,    6,    9,   12,   15,   18,   21,   24,   27,   30,\n",
       "         33,   36,   39,   42,   45,   48,   51,   54,   57,   60,   63,\n",
       "         66,   69,   72,   75,   78,   81,   84,   87,   90,   93,   96,\n",
       "         99,  102,  105,  108,  111,  114,  117,  120,  123,  126,  129,\n",
       "        132,  135,  138,  141,  144,  147,  150,  153,  156,  159,  162,\n",
       "        165,  168,  171,  174,  177,  180,  183,  186,  189,  192,  195,\n",
       "        198,  201,  204,  207,  210,  213,  216,  219,  222,  225,  228,\n",
       "        231,  234,  237,  240,  243,  246,  249,  252,  255,  258,  261,\n",
       "        264,  267,  270,  273,  276,  279,  282,  285,  288,  291,  294,\n",
       "        297,  300,  303,  306,  309,  312,  315,  318,  321,  324,  327,\n",
       "        330,  333,  336,  339,  342,  345,  348,  351,  354,  357,  360,\n",
       "        363,  366,  369,  372,  375,  378,  381,  384,  387,  390,  393,\n",
       "        396,  399,  402,  405,  408,  411,  414,  417,  420,  423,  426,\n",
       "        429,  432,  435,  438,  441,  444,  447,  450,  453,  456,  459,\n",
       "        462,  465,  468,  471,  474,  477,  480,  483,  486,  489,  492,\n",
       "        495,  498,  501,  504,  507,  510,  513,  516,  519,  522,  525,\n",
       "        528,  531,  534,  537,  540,  543,  546,  549,  552,  555,  558,\n",
       "        561,  564,  567,  570,  573,  576,  579,  582,  585,  588,  591,\n",
       "        594,  597,  600,  603,  606,  609,  612,  615,  618,  621,  624,\n",
       "        627,  630,  633,  636,  639,  642,  645,  648,  651,  654,  657,\n",
       "        660,  663,  666,  669,  672,  675,  678,  681,  684,  687,  690,\n",
       "        693,  696,  699,  702,  705,  708,  711,  714,  717,  720,  723,\n",
       "        726,  729,  732,  735,  738,  741,  744,  747,  750,  753,  756,\n",
       "        759,  762,  765,  768,  771,  774,  777,  780,  783,  786,  789,\n",
       "        792,  795,  798,  801,  804,  807,  810,  813,  816,  819,  822,\n",
       "        825,  828,  831,  834,  837,  840,  843,  846,  849,  852,  855,\n",
       "        858,  861,  864,  867,  870,  873,  876,  879,  882,  885,  888,\n",
       "        891,  894,  897,  900,  903,  906,  909,  912,  915,  918,  921,\n",
       "        924,  927,  930,  933,  936,  939,  942,  945,  948,  951,  954,\n",
       "        957,  960,  963,  966,  969,  972,  975,  978,  981,  984,  987,\n",
       "        990,  993,  996,  999, 1002, 1005, 1008, 1011, 1014, 1017, 1020,\n",
       "       1023, 1026, 1029, 1032, 1035, 1038, 1041, 1044, 1047, 1050, 1053,\n",
       "       1056, 1059, 1062, 1065, 1068, 1071, 1074, 1077, 1080, 1083, 1086,\n",
       "       1089, 1092, 1095, 1098, 1101, 1104, 1107, 1110, 1113, 1116, 1119,\n",
       "       1122, 1125, 1128, 1131, 1134, 1137, 1140, 1143, 1146, 1149, 1152,\n",
       "       1155, 1158, 1161, 1164, 1167, 1170, 1173, 1176, 1179, 1182, 1185,\n",
       "       1188, 1191, 1194, 1197, 1200, 1203, 1206, 1209, 1212, 1215, 1218,\n",
       "       1221, 1224, 1227, 1230, 1233, 1236, 1239, 1242, 1245, 1248, 1251,\n",
       "       1254, 1257, 1260, 1263, 1266, 1269, 1272, 1275, 1278, 1281, 1284,\n",
       "       1287, 1290, 1293, 1296, 1299, 1302, 1305, 1308, 1311, 1314, 1317,\n",
       "       1320, 1323, 1326, 1329, 1332, 1335, 1338, 1341, 1344, 1347, 1350,\n",
       "       1353, 1356, 1359, 1362, 1365, 1368, 1371, 1374, 1377, 1380, 1383,\n",
       "       1386, 1389, 1392, 1395, 1398, 1401, 1404, 1407, 1410, 1413, 1416,\n",
       "       1419, 1422, 1425, 1428, 1431, 1434, 1437, 1440, 1443, 1446, 1449,\n",
       "       1452, 1455, 1458, 1461, 1464, 1467, 1470, 1473, 1476, 1479, 1482,\n",
       "       1485, 1488, 1491, 1494, 1497, 1500, 1503, 1506, 1509, 1512, 1515,\n",
       "       1518, 1521, 1524, 1527, 1530, 1533, 1536, 1539, 1542, 1545, 1548,\n",
       "       1551, 1554, 1557, 1560, 1563, 1566, 1569, 1572, 1575, 1578, 1581,\n",
       "       1584, 1587, 1590, 1593, 1596, 1599, 1602, 1605, 1608, 1611, 1614,\n",
       "       1617, 1620, 1623, 1626, 1629, 1632, 1635, 1638, 1641, 1644, 1647,\n",
       "       1650, 1653, 1656, 1659, 1662, 1665, 1668, 1671, 1674, 1677, 1680,\n",
       "       1683, 1686, 1689, 1692, 1695, 1698, 1701, 1704, 1707, 1710, 1713,\n",
       "       1716, 1719, 1722, 1725, 1728, 1731, 1734, 1737, 1740, 1743, 1746,\n",
       "       1749, 1752, 1755, 1758, 1761, 1764, 1767, 1770, 1773, 1776, 1779,\n",
       "       1782, 1785, 1788, 1791, 1794, 1797, 1800, 1803, 1806, 1809, 1812,\n",
       "       1815, 1818, 1821, 1824, 1827, 1830, 1833, 1836, 1839, 1842, 1845,\n",
       "       1848, 1851, 1854, 1857, 1860, 1863, 1866, 1869, 1872, 1875, 1878,\n",
       "       1881, 1884, 1887, 1890, 1893, 1896, 1899, 1902, 1905, 1908, 1911,\n",
       "       1914, 1917, 1920, 1923, 1926, 1929, 1932, 1935, 1938, 1941, 1944,\n",
       "       1947, 1950, 1953, 1956, 1959, 1962, 1965, 1968, 1971, 1974, 1977,\n",
       "       1980, 1983, 1986, 1989, 1992, 1995, 1998, 2001, 2004, 2007, 2010,\n",
       "       2013, 2016, 2019, 2022, 2025, 2028, 2031, 2034, 2037, 2040, 2043,\n",
       "       2046, 2049, 2052, 2055, 2058, 2061, 2064, 2067, 2070, 2073, 2076,\n",
       "       2079, 2082, 2085, 2088, 2091, 2094, 2097, 2100, 2103, 2106, 2109,\n",
       "       2112, 2115, 2118, 2121, 2124, 2127, 2130, 2133, 2136, 2139, 2142,\n",
       "       2145, 2148, 2151, 2154, 2157, 2160, 2163, 2166, 2169, 2172, 2175,\n",
       "       2178, 2181, 2184, 2187, 2190, 2193, 2196, 2199, 2202, 2205, 2208,\n",
       "       2211, 2214, 2217, 2220, 2223, 2226, 2229, 2232, 2235, 2238, 2241,\n",
       "       2244, 2247, 2250, 2253, 2256, 2259, 2262, 2265, 2268, 2271, 2274,\n",
       "       2277, 2280, 2283, 2286, 2289, 2292, 2295, 2298, 2301, 2304, 2307,\n",
       "       2310, 2313, 2316, 2319, 2322, 2325, 2328, 2331, 2334, 2337, 2340,\n",
       "       2343, 2346, 2349, 2352, 2355, 2358, 2361, 2364, 2367, 2370, 2373,\n",
       "       2376, 2379, 2382, 2385, 2388, 2391, 2394, 2397, 2400, 2403, 2406,\n",
       "       2409, 2412, 2415, 2418, 2421, 2424, 2427, 2430, 2433, 2436, 2439,\n",
       "       2442, 2445, 2448, 2451, 2454, 2457, 2460, 2463, 2466, 2469, 2472,\n",
       "       2475, 2478, 2481, 2484, 2487, 2490, 2493, 2496, 2499, 2502, 2505,\n",
       "       2508, 2511, 2514, 2517, 2520, 2523, 2526, 2529, 2532, 2535, 2538,\n",
       "       2541, 2544, 2547, 2550, 2553, 2556, 2559, 2562, 2565, 2568, 2571,\n",
       "       2574, 2577, 2580, 2583, 2586, 2589, 2592, 2595, 2598, 2601, 2604,\n",
       "       2607, 2610, 2613, 2616, 2619, 2622, 2625, 2628, 2631, 2634, 2637,\n",
       "       2640, 2643, 2646, 2649, 2652, 2655, 2658, 2661, 2664, 2667, 2670,\n",
       "       2673, 2676, 2679, 2682, 2685, 2688, 2691, 2694, 2697, 2700, 2703,\n",
       "       2706, 2709, 2712, 2715, 2718, 2721, 2724, 2727, 2730, 2733, 2736,\n",
       "       2739, 2742, 2745, 2748, 2751, 2754, 2757, 2760, 2763, 2766, 2769,\n",
       "       2772, 2775, 2778, 2781, 2784, 2787, 2790, 2793, 2796, 2799, 2802,\n",
       "       2805, 2808, 2811, 2814, 2817, 2820, 2823, 2826, 2829, 2832, 2835,\n",
       "       2838, 2841, 2844, 2847, 2850, 2853, 2856, 2859, 2862, 2865, 2868,\n",
       "       2871, 2874, 2877, 2880, 2883, 2886, 2889, 2892, 2895, 2898, 2901,\n",
       "       2904, 2907, 2910, 2913, 2916, 2919, 2922, 2925, 2928, 2931, 2934,\n",
       "       2937, 2940, 2943, 2946, 2949, 2952, 2955, 2958, 2961, 2964, 2967,\n",
       "       2970, 2973, 2976, 2979, 2982, 2985, 2988, 2991, 2994, 2997])"
      ]
     },
     "execution_count": 2,
     "metadata": {},
     "output_type": "execute_result"
    }
   ],
   "source": [
    "a= np.arange(1000)\n",
    "%time a*3"
   ]
  },
  {
   "cell_type": "code",
   "execution_count": 3,
   "metadata": {},
   "outputs": [
    {
     "data": {
      "text/plain": [
       "array([[0., 0.],\n",
       "       [0., 0.]])"
      ]
     },
     "execution_count": 3,
     "metadata": {},
     "output_type": "execute_result"
    }
   ],
   "source": [
    "b = np.zeros((2,2))\n",
    "b"
   ]
  },
  {
   "cell_type": "code",
   "execution_count": 4,
   "metadata": {},
   "outputs": [
    {
     "data": {
      "text/plain": [
       "array([[1., 1., 1.],\n",
       "       [1., 1., 1.],\n",
       "       [1., 1., 1.]])"
      ]
     },
     "execution_count": 4,
     "metadata": {},
     "output_type": "execute_result"
    }
   ],
   "source": [
    "c = np.ones((3,3))\n",
    "c"
   ]
  },
  {
   "cell_type": "code",
   "execution_count": 5,
   "metadata": {},
   "outputs": [
    {
     "data": {
      "text/plain": [
       "array([[4., 4., 4.],\n",
       "       [4., 4., 4.],\n",
       "       [4., 4., 4.]])"
      ]
     },
     "execution_count": 5,
     "metadata": {},
     "output_type": "execute_result"
    }
   ],
   "source": [
    "d = c * 4\n",
    "d"
   ]
  },
  {
   "cell_type": "code",
   "execution_count": 6,
   "metadata": {},
   "outputs": [
    {
     "data": {
      "text/plain": [
       "array([7, 9, 8, 1, 3, 4])"
      ]
     },
     "execution_count": 6,
     "metadata": {},
     "output_type": "execute_result"
    }
   ],
   "source": [
    "e = [7,9,8,1,3,4]\n",
    "np.array(e)"
   ]
  },
  {
   "cell_type": "code",
   "execution_count": 7,
   "metadata": {},
   "outputs": [
    {
     "name": "stdout",
     "output_type": "stream",
     "text": [
      "f1 =  [100  99  98  97  96  95  94  93  92  91  90  89  88  87  86  85  84  83\n",
      "  82  81  80  79  78  77  76  75  74  73  72  71  70  69  68  67  66  65\n",
      "  64  63  62  61  60  59  58  57  56  55  54  53  52  51  50  49  48  47\n",
      "  46  45  44  43  42  41  40  39  38  37  36  35  34  33  32  31  30  29\n",
      "  28  27  26  25  24  23  22  21  20  19  18  17  16  15  14  13  12  11\n",
      "  10   9   8   7   6   5   4   3   2] \n",
      "\n",
      "f2 =  [ 2  4  6  8 10 12 14 16 18 20 22 24 26 28 30 32 34 36 38 40 42 44 46 48\n",
      " 50 52 54 56 58 60 62 64 66 68 70 72 74 76 78 80 82 84 86 88 90 92 94 96\n",
      " 98] \n",
      "\n",
      "f3 =  [ 1  3  5  7  9 11 13 15 17 19 21 23 25 27 29 31 33 35 37 39 41 43 45 47\n",
      " 49 51 53 55 57 59 61 63 65 67 69 71 73 75 77 79 81 83 85 87 89 91 93 95\n",
      " 97 99]\n"
     ]
    }
   ],
   "source": [
    "f1 = np.arange(100,1,-1)\n",
    "f2 = np.arange(2,100,2)\n",
    "f3 = np.arange(1,100,2)\n",
    "print(\"f1 = \",f1,\"\\n\\nf2 = \",f2,\"\\n\\nf3 = \",f3)"
   ]
  },
  {
   "cell_type": "code",
   "execution_count": 8,
   "metadata": {},
   "outputs": [
    {
     "name": "stdout",
     "output_type": "stream",
     "text": [
      "f4 =  [ 7 14 21 28 35 42 49 56 63 70]\n"
     ]
    }
   ],
   "source": [
    "f4 = np.arange(7,71,7)\n",
    "print(\"f4 = \",f4)"
   ]
  },
  {
   "cell_type": "code",
   "execution_count": 3,
   "metadata": {},
   "outputs": [
    {
     "data": {
      "text/plain": [
       "array([[4.67296746e-307, 1.69121096e-306, 6.23058707e-307,\n",
       "        8.45593934e-307],\n",
       "       [7.56593017e-307, 1.11258854e-306, 1.60218491e-306,\n",
       "        1.11261095e-306],\n",
       "       [8.06639778e-308, 6.23038336e-307, 6.23058028e-307,\n",
       "        1.11260348e-306],\n",
       "       [1.37962049e-306, 2.22521238e-306, 1.24611470e-306,\n",
       "        2.22507386e-306]])"
      ]
     },
     "execution_count": 3,
     "metadata": {},
     "output_type": "execute_result"
    }
   ],
   "source": [
    "g = np.empty((4,4)) #random number array\n",
    "g"
   ]
  },
  {
   "cell_type": "markdown",
   "metadata": {},
   "source": [
    "# Attributes Of NumPy Array"
   ]
  },
  {
   "cell_type": "markdown",
   "metadata": {},
   "source": [
    "- shape (for shape of array)\n",
    "- dtype (for data-types of elements)\n",
    "- ndim (for number of dimensions)"
   ]
  },
  {
   "cell_type": "code",
   "execution_count": 10,
   "metadata": {},
   "outputs": [
    {
     "data": {
      "text/plain": [
       "(2, 2)"
      ]
     },
     "execution_count": 10,
     "metadata": {},
     "output_type": "execute_result"
    }
   ],
   "source": [
    "b.shape"
   ]
  },
  {
   "cell_type": "code",
   "execution_count": 11,
   "metadata": {},
   "outputs": [
    {
     "data": {
      "text/plain": [
       "(3, 3)"
      ]
     },
     "execution_count": 11,
     "metadata": {},
     "output_type": "execute_result"
    }
   ],
   "source": [
    "c.shape"
   ]
  },
  {
   "cell_type": "code",
   "execution_count": 12,
   "metadata": {},
   "outputs": [
    {
     "data": {
      "text/plain": [
       "dtype('float64')"
      ]
     },
     "execution_count": 12,
     "metadata": {},
     "output_type": "execute_result"
    }
   ],
   "source": [
    "c.dtype"
   ]
  },
  {
   "cell_type": "code",
   "execution_count": 13,
   "metadata": {},
   "outputs": [
    {
     "data": {
      "text/plain": [
       "array([[1, 1, 1],\n",
       "       [1, 1, 1],\n",
       "       [1, 1, 1]])"
      ]
     },
     "execution_count": 13,
     "metadata": {},
     "output_type": "execute_result"
    }
   ],
   "source": [
    "c.astype(\"int32\")"
   ]
  },
  {
   "cell_type": "code",
   "execution_count": 14,
   "metadata": {},
   "outputs": [
    {
     "name": "stdout",
     "output_type": "stream",
     "text": [
      "1\n",
      "2\n",
      "2\n",
      "2\n",
      "1\n"
     ]
    }
   ],
   "source": [
    "print(a.ndim)\n",
    "print(b.ndim)\n",
    "print(c.ndim)\n",
    "print(d.ndim)\n",
    "print(f1.ndim)"
   ]
  },
  {
   "cell_type": "code",
   "execution_count": 25,
   "metadata": {},
   "outputs": [
    {
     "name": "stdout",
     "output_type": "stream",
     "text": [
      "[[ 2  3  4  5]\n",
      " [ 7  8  9 10]\n",
      " [ 2  4  6  8]]\n",
      "\n",
      " [[ 2  3  4]\n",
      " [ 5  7  8]\n",
      " [ 9 10  2]\n",
      " [ 4  6  8]]\n",
      "\n",
      " [[ 2  3  4  5  7  8]\n",
      " [ 9 10  2  4  6  8]]\n",
      "\n",
      " [[ 2  3]\n",
      " [ 4  5]\n",
      " [ 7  8]\n",
      " [ 9 10]\n",
      " [ 2  4]\n",
      " [ 6  8]]\n"
     ]
    }
   ],
   "source": [
    "h = np.array([[2,3,4,5],[7,8,9,10],[2,4,6,8]])\n",
    "print(h)\n",
    "print(\"\\n\",h.reshape((4,3)))\n",
    "print(\"\\n\",h.reshape((2,6)))\n",
    "print(\"\\n\",h.reshape((6,2)))"
   ]
  },
  {
   "cell_type": "markdown",
   "metadata": {},
   "source": [
    "# Vectorization"
   ]
  },
  {
   "cell_type": "markdown",
   "metadata": {},
   "source": [
    "- Batch Operators without writing for loops \n",
    "- Any arithematic operation applies element-wise\n",
    "- Arithematic operation with Scalar propagate the scalar argument to each element in an array\n",
    "- Comparison between array of same size yields Boolean array\n",
    "- Operation between differently sized arrays is called Broadcasting"
   ]
  },
  {
   "cell_type": "code",
   "execution_count": 26,
   "metadata": {},
   "outputs": [
    {
     "data": {
      "text/plain": [
       "array([0.14285714, 0.07142857, 0.04761905, 0.03571429, 0.02857143,\n",
       "       0.02380952, 0.02040816, 0.01785714, 0.01587302, 0.01428571])"
      ]
     },
     "execution_count": 26,
     "metadata": {},
     "output_type": "execute_result"
    }
   ],
   "source": [
    "1/f4"
   ]
  },
  {
   "cell_type": "code",
   "execution_count": 27,
   "metadata": {},
   "outputs": [
    {
     "data": {
      "text/plain": [
       "array([ 14,  28,  42,  56,  70,  84,  98, 112, 126, 140])"
      ]
     },
     "execution_count": 27,
     "metadata": {},
     "output_type": "execute_result"
    }
   ],
   "source": [
    "f4*2"
   ]
  },
  {
   "cell_type": "code",
   "execution_count": 32,
   "metadata": {},
   "outputs": [
    {
     "name": "stdout",
     "output_type": "stream",
     "text": [
      "[[ 2  3  4  5]\n",
      " [ 7  8  9 10]\n",
      " [ 2  4  6  8]] \n",
      "\n",
      " [[1 2 1 4]\n",
      " [8 4 6 1]\n",
      " [0 5 3 1]]\n",
      "\n",
      "\n",
      " [[ 3  5  5  9]\n",
      " [15 12 15 11]\n",
      " [ 2  9  9  9]]\n"
     ]
    }
   ],
   "source": [
    "i = np.array([[1,2,1,4],[8,4,6,1],[0,5,3,1]])\n",
    "print(h,\"\\n\\n\",i)\n",
    "print(\"\\n\\n\",h+i)"
   ]
  },
  {
   "cell_type": "code",
   "execution_count": 33,
   "metadata": {},
   "outputs": [
    {
     "data": {
      "text/plain": [
       "array([False, False, False,  True,  True,  True,  True,  True,  True,\n",
       "        True,  True,  True,  True,  True,  True,  True,  True,  True,\n",
       "        True,  True,  True,  True,  True,  True,  True,  True,  True,\n",
       "        True,  True,  True,  True,  True,  True,  True,  True,  True,\n",
       "        True,  True,  True,  True,  True,  True,  True,  True,  True,\n",
       "        True,  True,  True,  True])"
      ]
     },
     "execution_count": 33,
     "metadata": {},
     "output_type": "execute_result"
    }
   ],
   "source": [
    "f2>6"
   ]
  },
  {
   "cell_type": "code",
   "execution_count": 34,
   "metadata": {},
   "outputs": [
    {
     "data": {
      "text/plain": [
       "array([22, 24, 26, 28, 30, 32, 34, 36, 38, 40, 42, 44, 46, 48, 50, 52, 54,\n",
       "       56, 58, 60, 62, 64, 66, 68, 70, 72, 74, 76, 78, 80, 82, 84, 86, 88,\n",
       "       90, 92, 94, 96, 98])"
      ]
     },
     "execution_count": 34,
     "metadata": {},
     "output_type": "execute_result"
    }
   ],
   "source": [
    "f2[f2>20]"
   ]
  },
  {
   "cell_type": "code",
   "execution_count": 35,
   "metadata": {},
   "outputs": [
    {
     "data": {
      "text/plain": [
       "array([1, 3, 5, 7])"
      ]
     },
     "execution_count": 35,
     "metadata": {},
     "output_type": "execute_result"
    }
   ],
   "source": [
    "f3[f3<9]"
   ]
  },
  {
   "cell_type": "code",
   "execution_count": 38,
   "metadata": {},
   "outputs": [
    {
     "name": "stdout",
     "output_type": "stream",
     "text": [
      "['Salman' 'Uzaif' 'Haseeb']\n",
      "['Uzaif' 'Haseeb']\n"
     ]
    }
   ],
   "source": [
    "names = np.array([\"Salman\",\"Uzaif\",\"Nabeel\",\"Haseeb\",\"Talha\"])\n",
    "fee = np.array([\"submitted\",\"submitted\",\"unsubmitted\",\"submitted\",\"unsubmitted\"])\n",
    "course = np.array([\"A.I\",\"C.C\",\"IOT\",\"C.C\",\"IOT\"])\n",
    "print(names[fee==\"submitted\"])\n",
    "print(names[course==\"C.C\"])"
   ]
  },
  {
   "cell_type": "code",
   "execution_count": 44,
   "metadata": {},
   "outputs": [
    {
     "data": {
      "text/plain": [
       "array([[0, 0, 0, 0, 0, 0, 0, 0, 0, 0],\n",
       "       [0, 0, 0, 0, 0, 0, 0, 0, 0, 0],\n",
       "       [0, 0, 0, 0, 0, 0, 0, 0, 0, 0],\n",
       "       [0, 0, 0, 0, 0, 0, 0, 0, 0, 0],\n",
       "       [0, 0, 0, 0, 0, 0, 0, 0, 0, 0],\n",
       "       [0, 0, 0, 0, 0, 0, 0, 0, 0, 0],\n",
       "       [0, 0, 0, 0, 0, 0, 0, 0, 0, 0],\n",
       "       [0, 0, 0, 0, 0, 0, 0, 0, 0, 0],\n",
       "       [0, 0, 0, 0, 0, 0, 0, 0, 0, 0],\n",
       "       [0, 0, 0, 0, 0, 0, 0, 0, 0, 0]])"
      ]
     },
     "execution_count": 44,
     "metadata": {},
     "output_type": "execute_result"
    }
   ],
   "source": [
    "j = np.zeros((10,10))\n",
    "j.astype(\"int32\")"
   ]
  },
  {
   "cell_type": "code",
   "execution_count": 46,
   "metadata": {},
   "outputs": [
    {
     "name": "stdout",
     "output_type": "stream",
     "text": [
      "[[1 1 1 1 1 1 1 1 1 1]\n",
      " [1 0 0 0 0 0 0 0 0 1]\n",
      " [1 0 0 0 0 0 0 0 0 1]\n",
      " [1 0 0 0 0 0 0 0 0 1]\n",
      " [1 0 0 0 0 0 0 0 0 1]\n",
      " [1 0 0 0 0 0 0 0 0 1]\n",
      " [1 0 0 0 0 0 0 0 0 1]\n",
      " [1 0 0 0 0 0 0 0 0 1]\n",
      " [1 0 0 0 0 0 0 0 0 1]\n",
      " [1 1 1 1 1 1 1 1 1 1]]\n"
     ]
    }
   ],
   "source": [
    "j[0,:] = 1\n",
    "j[9,:] = 1\n",
    "j[:,0] = 1\n",
    "j[:,9] = 1\n",
    "print(j.astype(\"int32\"))"
   ]
  },
  {
   "cell_type": "code",
   "execution_count": 49,
   "metadata": {},
   "outputs": [
    {
     "data": {
      "text/plain": [
       "array([[0., 0., 0., 0., 0., 0., 0., 0., 0., 0.],\n",
       "       [0., 1., 1., 1., 1., 1., 1., 1., 1., 0.],\n",
       "       [0., 1., 1., 1., 1., 1., 1., 1., 1., 0.],\n",
       "       [0., 1., 1., 1., 1., 1., 1., 1., 1., 0.],\n",
       "       [0., 1., 1., 1., 1., 1., 1., 1., 1., 0.],\n",
       "       [0., 1., 1., 1., 1., 1., 1., 1., 1., 0.],\n",
       "       [0., 1., 1., 1., 1., 1., 1., 1., 1., 0.],\n",
       "       [0., 1., 1., 1., 1., 1., 1., 1., 1., 0.],\n",
       "       [0., 1., 1., 1., 1., 1., 1., 1., 1., 0.],\n",
       "       [0., 0., 0., 0., 0., 0., 0., 0., 0., 0.]])"
      ]
     },
     "execution_count": 49,
     "metadata": {},
     "output_type": "execute_result"
    }
   ],
   "source": [
    "k = np.zeros((10,10))\n",
    "k.astype(\"int32\")\n",
    "k[1:-1,1:-1] = 1\n",
    "k"
   ]
  },
  {
   "cell_type": "code",
   "execution_count": null,
   "metadata": {},
   "outputs": [],
   "source": []
  }
 ],
 "metadata": {
  "kernelspec": {
   "display_name": "Python 3",
   "language": "python",
   "name": "python3"
  },
  "language_info": {
   "codemirror_mode": {
    "name": "ipython",
    "version": 3
   },
   "file_extension": ".py",
   "mimetype": "text/x-python",
   "name": "python",
   "nbconvert_exporter": "python",
   "pygments_lexer": "ipython3",
   "version": "3.7.0"
  }
 },
 "nbformat": 4,
 "nbformat_minor": 2
}
